{
 "cells": [
  {
   "cell_type": "markdown",
   "id": "ebd23892-e8ae-4ef7-8e19-f1171e63f544",
   "metadata": {},
   "source": [
    "## Question:\n",
    "- Give a prompt to the user asking if they wish to create a new Savings Account or access an existing one\n",
    "- If the user would like to create a new account, accept their name adn intitial deposit, and create a 5 digit random number and make it as the account number of theri new Savings Account.\n",
    "- If they are accessing an existing account, accept their name and account number to validate the user, and give them options to withdraw, depostt or display their available balance. "
   ]
  },
  {
   "cell_type": "code",
   "execution_count": 48,
   "id": "cd57b816-8c33-4912-8b9f-cb4089ce0ea4",
   "metadata": {},
   "outputs": [],
   "source": [
    "from random import randint\n",
    "\n",
    "class Bank():\n",
    "    def __init__(self, name=\"NBE\"):\n",
    "        self.name = name\n",
    "        self.__Customers = []\n",
    "\n",
    "    def addCustomer(self, customer):\n",
    "        self.__Customers.append({\n",
    "            customer.accountNumber: {\n",
    "                \"name\": customer.name,\n",
    "                \"initial_deposit\": customer.initialDeposit\n",
    "            }\n",
    "        })\n",
    "        \n",
    "\n",
    "    def validateAccount(self, name, accountNumber):\n",
    "        for customer in self.__Customers:\n",
    "            if accountNumber in customer.keys():\n",
    "                if customer[accountNumber]['name'] == name:\n",
    "                    return True\n",
    "            else:\n",
    "                return False\n",
    "        \n",
    "    def withdraw(self, customer, withrawalAmount):\n",
    "        if validateAccount:\n",
    "            # withdraw\n",
    "            pass\n",
    "        else:\n",
    "            # return message\n",
    "            pass\n",
    "\n",
    "    def deposit(self, customer, depositAmount):\n",
    "        if validateAccount:\n",
    "            # deposit\n",
    "            pass\n",
    "        else:\n",
    "            # return message\n",
    "            pass\n",
    "\n",
    "    def displayBalance(self, customer):\n",
    "        # print(f\"your available balance is {customer.}\")\n",
    "        pass\n",
    "\n",
    "\n",
    "\n",
    "class Customer(Bank):\n",
    "    def __init__(self, name, initial_deposit, Bank):\n",
    "        self.accountNumber = randint(10000, 99999)        \n",
    "        self.name = name\n",
    "        self.initialDeposit = initial_deposit\n",
    "        Bank.addCustomer(self)\n",
    "        print(\"please save your data:\\n1- account_number: {}\\n2- name: {}\".format(self.accountNumber, self.name))"
   ]
  },
  {
   "cell_type": "code",
   "execution_count": 49,
   "id": "d8fe5548-5154-4bec-9e22-489cb8dbbf20",
   "metadata": {},
   "outputs": [],
   "source": [
    "NBE_bank = Bank()"
   ]
  },
  {
   "cell_type": "code",
   "execution_count": 52,
   "id": "05ca0094-4780-4d44-bfdd-cebb1b5bea2f",
   "metadata": {},
   "outputs": [
    {
     "name": "stdout",
     "output_type": "stream",
     "text": [
      "Welcome to the ATW Bank. Choose from the numbers below:\n",
      "\n",
      "#1 Create a new savings account.\n",
      "#2 Access and exising account.\n"
     ]
    },
    {
     "name": "stdin",
     "output_type": "stream",
     "text": [
      " dfddd\n"
     ]
    },
    {
     "ename": "ValueError",
     "evalue": "invalid literal for int() with base 10: 'dfddd'",
     "output_type": "error",
     "traceback": [
      "\u001b[1;31m---------------------------------------------------------------------------\u001b[0m",
      "\u001b[1;31mValueError\u001b[0m                                Traceback (most recent call last)",
      "Cell \u001b[1;32mIn[52], line 4\u001b[0m\n\u001b[0;32m      1\u001b[0m \u001b[38;5;28mprint\u001b[39m(\u001b[38;5;124m\"\u001b[39m\u001b[38;5;124mWelcome to the ATW Bank. Choose from the numbers below:\u001b[39m\u001b[38;5;130;01m\\n\u001b[39;00m\u001b[38;5;124m\"\u001b[39m)\n\u001b[0;32m      2\u001b[0m \u001b[38;5;28mprint\u001b[39m(\u001b[38;5;124m\"\u001b[39m\u001b[38;5;124m#1 Create a new savings account.\u001b[39m\u001b[38;5;130;01m\\n\u001b[39;00m\u001b[38;5;124m#2 Access and exising account.\u001b[39m\u001b[38;5;124m\"\u001b[39m)\n\u001b[1;32m----> 4\u001b[0m choice \u001b[38;5;241m=\u001b[39m \u001b[38;5;28;43mint\u001b[39;49m\u001b[43m(\u001b[49m\u001b[38;5;28;43minput\u001b[39;49m\u001b[43m(\u001b[49m\u001b[43m)\u001b[49m\u001b[43m)\u001b[49m\n\u001b[0;32m      5\u001b[0m \u001b[38;5;28;01mif\u001b[39;00m choice \u001b[38;5;241m==\u001b[39m \u001b[38;5;241m1\u001b[39m:\n\u001b[0;32m      6\u001b[0m     \u001b[38;5;28mprint\u001b[39m(\u001b[38;5;124m\"\u001b[39m\u001b[38;5;124mPlease enter you name\u001b[39m\u001b[38;5;124m\"\u001b[39m)\n",
      "\u001b[1;31mValueError\u001b[0m: invalid literal for int() with base 10: 'dfddd'"
     ]
    }
   ],
   "source": [
    "print(\"Welcome to the ATW Bank. Choose from the numbers below:\\n\")\n",
    "print(\"#1 Create a new savings account.\\n#2 Access and exising account.\")\n",
    "\n",
    "choice = int(input())\n",
    "if choice == 1:\n",
    "    print(\"Please enter you name\")\n",
    "    name = str(input())\n",
    "    print(\"Please enter youur desired initial deposit\")\n",
    "    deposit = int(input())\n",
    "    customerOne = Customer(name, deposit, NBE_bank)\n",
    "    \n",
    "elif choice ==2:\n",
    "    print(\"Please enter your name\")\n",
    "    name = str(input())\n",
    "    print(\"Please enter your account number\")\n",
    "    accountNumber = int(input())\n",
    "    if NBE_bank.validateAccount(name, accountNumber):\n",
    "        print(\"account validated. Please choose from the numbers below:\\n\")\n",
    "        print(\"#1 Cash Withdrawal.\\n#2 Deposit.\\n#3 Display available balance\")\n",
    "        choice = int(input())\n",
    "        \n",
    "        if choice == 1:\n",
    "            print(\"Please enter withdrawal ammount. N.B. Only multiples of 50!\")\n",
    "            amount = int(input())\n",
    "            NBE_bank.deposit(amount, account, name)\n",
    "            \n",
    "        if choice == 2:\n",
    "            print(\"Please enter Deposit ammount. N.B. Only multiples of 50!\")\n",
    "            amount = int(input())\n",
    "            NBE_bank.withdraw(amount, account, name)\n",
    "            \n",
    "        elif choice == 3:\n",
    "            NBE_bank.displayBalance(account, name)\n",
    "    pass"
   ]
  },
  {
   "cell_type": "code",
   "execution_count": null,
   "id": "af01e7f9-8ccb-4d38-878a-6b5b9a3f5d82",
   "metadata": {},
   "outputs": [],
   "source": []
  }
 ],
 "metadata": {
  "kernelspec": {
   "display_name": "Python 3 (ipykernel)",
   "language": "python",
   "name": "python3"
  },
  "language_info": {
   "codemirror_mode": {
    "name": "ipython",
    "version": 3
   },
   "file_extension": ".py",
   "mimetype": "text/x-python",
   "name": "python",
   "nbconvert_exporter": "python",
   "pygments_lexer": "ipython3",
   "version": "3.10.10"
  }
 },
 "nbformat": 4,
 "nbformat_minor": 5
}
