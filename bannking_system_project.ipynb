{
 "cells": [
  {
   "cell_type": "markdown",
   "id": "ebd23892-e8ae-4ef7-8e19-f1171e63f544",
   "metadata": {},
   "source": [
    "## Question:\n",
    "- Give a prompt to the user asking if they wish to create a new Savings Account or access an existing one\n",
    "- If the user would like to create a new account, accept their name adn intitial deposit, and create a 5 digit random number and make it as the account number of theri new Savings Account.\n",
    "- If they are accessing an existing account, accept their name and account number to validate the user, and give them options to withdraw, depostt or display their available balance. "
   ]
  },
  {
   "cell_type": "code",
   "execution_count": 16,
   "id": "cd57b816-8c33-4912-8b9f-cb4089ce0ea4",
   "metadata": {},
   "outputs": [],
   "source": [
    "from random import randint\n",
    "\n",
    "class Bank():\n",
    "    def __init__(self):\n",
    "        self.Customers = []\n",
    "\n",
    "    def validateAccount(self, customer):\n",
    "        return True if customer.accountNumber in self.Customers.keys() else False\n",
    "        \n",
    "    def withdraw(self, customer, withrawalAmount):\n",
    "        if validateAccount:\n",
    "            # withdraw\n",
    "            pass\n",
    "        else:\n",
    "            # return message\n",
    "            pass\n",
    "\n",
    "    def deposit(self, customer, depositAmount):\n",
    "        if validateAccount:\n",
    "            # deposit\n",
    "            pass\n",
    "        else:\n",
    "            # return message\n",
    "            pass\n",
    "\n",
    "    def displayBalance(self, customer):\n",
    "        # print(f\"your available balance is {customer.}\")\n",
    "        pass\n",
    "\n",
    "\n",
    "\n",
    "class Customer(Bank):\n",
    "    def __init__(self, name, initial_deposit):\n",
    "        self.name = name\n",
    "        self.accountNumber = randint(10000, 99999)\n",
    "        self.initialDeposit = initial_deposit\n",
    "        super().Customers.append({\n",
    "            self.accountNumber: {\n",
    "                \"name\": self.name,\n",
    "                \"initial_deposit\": self.initial_deposit\n",
    "            }\n",
    "        })"
   ]
  },
  {
   "cell_type": "code",
   "execution_count": 12,
   "id": "05ca0094-4780-4d44-bfdd-cebb1b5bea2f",
   "metadata": {},
   "outputs": [
    {
     "name": "stdout",
     "output_type": "stream",
     "text": [
      "Welcome to the ATW Bank. Choose from the numbers below:\n",
      "\n",
      "#1 Create a new savings account.\n",
      "#2 Access and exising account.\n"
     ]
    },
    {
     "name": "stdin",
     "output_type": "stream",
     "text": [
      " d\n"
     ]
    },
    {
     "ename": "ValueError",
     "evalue": "invalid literal for int() with base 10: 'd'",
     "output_type": "error",
     "traceback": [
      "\u001b[0;31m---------------------------------------------------------------------------\u001b[0m",
      "\u001b[0;31mValueError\u001b[0m                                Traceback (most recent call last)",
      "Cell \u001b[0;32mIn[12], line 4\u001b[0m\n\u001b[1;32m      1\u001b[0m \u001b[38;5;28mprint\u001b[39m(\u001b[38;5;124m\"\u001b[39m\u001b[38;5;124mWelcome to the ATW Bank. Choose from the numbers below:\u001b[39m\u001b[38;5;130;01m\\n\u001b[39;00m\u001b[38;5;124m\"\u001b[39m)\n\u001b[1;32m      2\u001b[0m \u001b[38;5;28mprint\u001b[39m(\u001b[38;5;124m\"\u001b[39m\u001b[38;5;124m#1 Create a new savings account.\u001b[39m\u001b[38;5;130;01m\\n\u001b[39;00m\u001b[38;5;124m#2 Access and exising account.\u001b[39m\u001b[38;5;124m\"\u001b[39m)\n\u001b[0;32m----> 4\u001b[0m choice \u001b[38;5;241m=\u001b[39m \u001b[38;5;28;43mint\u001b[39;49m\u001b[43m(\u001b[49m\u001b[38;5;28;43minput\u001b[39;49m\u001b[43m(\u001b[49m\u001b[43m)\u001b[49m\u001b[43m)\u001b[49m\n\u001b[1;32m      5\u001b[0m \u001b[38;5;28;01mif\u001b[39;00m choice \u001b[38;5;241m==\u001b[39m \u001b[38;5;241m1\u001b[39m:\n\u001b[1;32m      6\u001b[0m     \u001b[38;5;66;03m# get name\u001b[39;00m\n\u001b[1;32m      7\u001b[0m     \u001b[38;5;66;03m# get initial deposit\u001b[39;00m\n\u001b[1;32m      8\u001b[0m     \u001b[38;5;66;03m# create 5 digit random account number for their new savings account.\u001b[39;00m\n\u001b[1;32m      9\u001b[0m     \u001b[38;5;28;01mpass\u001b[39;00m\n",
      "\u001b[0;31mValueError\u001b[0m: invalid literal for int() with base 10: 'd'"
     ]
    }
   ],
   "source": [
    "print(\"Welcome to the ATW Bank. Choose from the numbers below:\\n\")\n",
    "print(\"#1 Create a new savings account.\\n#2 Access and exising account.\")\n",
    "\n",
    "choice = int(input())\n",
    "if choice == 1:\n",
    "    # get name\n",
    "    # get initial deposit\n",
    "    # create 5 digit random account number for their new savings account.\n",
    "    pass\n",
    "    \n",
    "elif choice ==2:\n",
    "    # accept name\n",
    "    # accpet account number \n",
    "    # validate user\n",
    "    # give options to withdraw, deposit or display their available balance\n",
    "    pass"
   ]
  },
  {
   "cell_type": "code",
   "execution_count": null,
   "id": "dbcf0cee-e409-405b-a5f7-51889a65b262",
   "metadata": {},
   "outputs": [],
   "source": []
  }
 ],
 "metadata": {
  "kernelspec": {
   "display_name": "Python 3 (ipykernel)",
   "language": "python",
   "name": "python3"
  },
  "language_info": {
   "codemirror_mode": {
    "name": "ipython",
    "version": 3
   },
   "file_extension": ".py",
   "mimetype": "text/x-python",
   "name": "python",
   "nbconvert_exporter": "python",
   "pygments_lexer": "ipython3",
   "version": "3.10.12"
  }
 },
 "nbformat": 4,
 "nbformat_minor": 5
}
