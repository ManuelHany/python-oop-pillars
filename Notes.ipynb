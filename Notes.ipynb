{
 "cells": [
  {
   "cell_type": "markdown",
   "id": "d7d5b533-7aa4-4286-b806-c9db6f13d921",
   "metadata": {},
   "source": [
    "# Notes\n",
    "- Everything in pyhthon is an object\n",
    "- upon property(attribute) get, pyhton checks first if there is an instance attribute for this property, return it if exist and return class attribute if it does not exist."
   ]
  },
  {
   "cell_type": "markdown",
   "id": "a33e9ae6-a216-48fe-90a6-df147522d100",
   "metadata": {},
   "source": [
    "# Trials"
   ]
  },
  {
   "cell_type": "markdown",
   "id": "50a34605-d5dd-4bb0-a77d-4363deb17ac7",
   "metadata": {
    "jp-MarkdownHeadingCollapsed": true
   },
   "source": [
    "## - Trial 1"
   ]
  },
  {
   "cell_type": "code",
   "execution_count": 12,
   "id": "9c8c6f0e-d24d-4ab3-aed1-b36934826753",
   "metadata": {},
   "outputs": [],
   "source": [
    "class Employee:\n",
    "    name = \"Ben\"\n",
    "    designation = \"Sales Executive\"\n",
    "    salesMadeThisWeek = 6\n",
    "\n",
    "    def hasAchievedTarget(self):\n",
    "        if self.salesMadeThisWeek >= 6:\n",
    "            print(\"Target has been achieved\")\n",
    "        else:\n",
    "            print(\"Target has not been achieved\")\n"
   ]
  },
  {
   "cell_type": "code",
   "execution_count": 13,
   "id": "be9cfaf4-18da-4f26-b942-6310251d3ddc",
   "metadata": {},
   "outputs": [],
   "source": [
    "employeeOne = Employee()"
   ]
  },
  {
   "cell_type": "code",
   "execution_count": 14,
   "id": "a017ceb6-97a4-4267-8387-62a405d2474c",
   "metadata": {},
   "outputs": [
    {
     "data": {
      "text/plain": [
       "'Ben'"
      ]
     },
     "execution_count": 14,
     "metadata": {},
     "output_type": "execute_result"
    }
   ],
   "source": [
    "employeeOne.name"
   ]
  },
  {
   "cell_type": "code",
   "execution_count": 15,
   "id": "63d18c82-9c65-4137-b30a-d671baacb5ad",
   "metadata": {},
   "outputs": [
    {
     "name": "stdout",
     "output_type": "stream",
     "text": [
      "Target has been achieved\n"
     ]
    }
   ],
   "source": [
    "employeeOne.hasAchievedTarget()"
   ]
  },
  {
   "cell_type": "code",
   "execution_count": 16,
   "id": "91c3ab9f-4d52-4fc2-baab-87b018b6a6d1",
   "metadata": {},
   "outputs": [],
   "source": [
    "employeeTwo = Employee()"
   ]
  },
  {
   "cell_type": "code",
   "execution_count": 17,
   "id": "a704f9db-14d9-45ce-88f0-7abf3bd0d088",
   "metadata": {},
   "outputs": [
    {
     "data": {
      "text/plain": [
       "'Ben'"
      ]
     },
     "execution_count": 17,
     "metadata": {},
     "output_type": "execute_result"
    }
   ],
   "source": [
    "employeeTwo.name"
   ]
  },
  {
   "cell_type": "markdown",
   "id": "cf808772-7134-47fd-9a4c-efe01812b85d",
   "metadata": {
    "jp-MarkdownHeadingCollapsed": true
   },
   "source": [
    "## - Trial 2"
   ]
  },
  {
   "cell_type": "markdown",
   "id": "0aeaee51-4346-4cf4-afa3-eaf9d41edcca",
   "metadata": {
    "jp-MarkdownHeadingCollapsed": true
   },
   "source": [
    "### - calss attributes"
   ]
  },
  {
   "cell_type": "code",
   "execution_count": 18,
   "id": "df40fb67-9fbe-45b7-9873-76cec23a96f0",
   "metadata": {},
   "outputs": [],
   "source": [
    "class Employee:\n",
    "    numberOfWorkingHours = 40"
   ]
  },
  {
   "cell_type": "code",
   "execution_count": 19,
   "id": "9ed657f4-451d-4152-83dc-8688f2216c44",
   "metadata": {},
   "outputs": [],
   "source": [
    "employeeOne = Employee()\n",
    "employeeTwo = Employee()"
   ]
  },
  {
   "cell_type": "code",
   "execution_count": 20,
   "id": "ade9466c-4e55-41a7-b647-96c61c4456b0",
   "metadata": {},
   "outputs": [
    {
     "data": {
      "text/plain": [
       "40"
      ]
     },
     "execution_count": 20,
     "metadata": {},
     "output_type": "execute_result"
    }
   ],
   "source": [
    "employeeOne.numberOfWorkingHours"
   ]
  },
  {
   "cell_type": "code",
   "execution_count": 21,
   "id": "d22b6d47-af88-4d29-8442-59514e22b75b",
   "metadata": {},
   "outputs": [
    {
     "data": {
      "text/plain": [
       "40"
      ]
     },
     "execution_count": 21,
     "metadata": {},
     "output_type": "execute_result"
    }
   ],
   "source": [
    "employeeTwo.numberOfWorkingHours"
   ]
  },
  {
   "cell_type": "code",
   "execution_count": 22,
   "id": "18c751a1-f032-417c-840e-5672d7dfad2d",
   "metadata": {},
   "outputs": [],
   "source": [
    "Employee.numberOfWorkingHours = 45"
   ]
  },
  {
   "cell_type": "code",
   "execution_count": 23,
   "id": "d1073cab-fee8-4d53-8b25-dbd57b3ccf41",
   "metadata": {},
   "outputs": [
    {
     "data": {
      "text/plain": [
       "45"
      ]
     },
     "execution_count": 23,
     "metadata": {},
     "output_type": "execute_result"
    }
   ],
   "source": [
    "employeeOne.numberOfWorkingHours"
   ]
  },
  {
   "cell_type": "code",
   "execution_count": 24,
   "id": "406bc5ee-483b-49ed-99a1-a099816bf0f4",
   "metadata": {},
   "outputs": [
    {
     "data": {
      "text/plain": [
       "45"
      ]
     },
     "execution_count": 24,
     "metadata": {},
     "output_type": "execute_result"
    }
   ],
   "source": [
    "employeeTwo.numberOfWorkingHours"
   ]
  },
  {
   "cell_type": "markdown",
   "id": "08586170-3590-4c85-989f-15693ed3f003",
   "metadata": {
    "jp-MarkdownHeadingCollapsed": true
   },
   "source": [
    "### - instance attributes"
   ]
  },
  {
   "cell_type": "code",
   "execution_count": 26,
   "id": "03a7cb51-6112-428f-b9f3-ddd9ece77adf",
   "metadata": {},
   "outputs": [
    {
     "data": {
      "text/plain": [
       "'John'"
      ]
     },
     "execution_count": 26,
     "metadata": {},
     "output_type": "execute_result"
    }
   ],
   "source": [
    "employeeOne.name = \"John\"\n",
    "employeeOne.name"
   ]
  },
  {
   "cell_type": "code",
   "execution_count": 27,
   "id": "d72b17ab-29ba-4469-ba76-9eefc27fa7b2",
   "metadata": {},
   "outputs": [
    {
     "ename": "AttributeError",
     "evalue": "'Employee' object has no attribute 'name'",
     "output_type": "error",
     "traceback": [
      "\u001b[0;31m---------------------------------------------------------------------------\u001b[0m",
      "\u001b[0;31mAttributeError\u001b[0m                            Traceback (most recent call last)",
      "Cell \u001b[0;32mIn[27], line 1\u001b[0m\n\u001b[0;32m----> 1\u001b[0m \u001b[43memployeeTwo\u001b[49m\u001b[38;5;241;43m.\u001b[39;49m\u001b[43mname\u001b[49m\n",
      "\u001b[0;31mAttributeError\u001b[0m: 'Employee' object has no attribute 'name'"
     ]
    }
   ],
   "source": [
    "employeeTwo.name"
   ]
  },
  {
   "cell_type": "code",
   "execution_count": 29,
   "id": "3bf8d2b4-abb7-47ba-8bda-42a7450376e4",
   "metadata": {},
   "outputs": [
    {
     "data": {
      "text/plain": [
       "'Mary'"
      ]
     },
     "execution_count": 29,
     "metadata": {},
     "output_type": "execute_result"
    }
   ],
   "source": [
    "employeeTwo.name = \"Mary\"\n",
    "employeeTwo.name"
   ]
  },
  {
   "cell_type": "code",
   "execution_count": 30,
   "id": "cf19845e-62ee-46a1-a524-8f8c8aa53409",
   "metadata": {},
   "outputs": [
    {
     "data": {
      "text/plain": [
       "40"
      ]
     },
     "execution_count": 30,
     "metadata": {},
     "output_type": "execute_result"
    }
   ],
   "source": [
    "employeeOne.numberOfWorkingHours = 40\n",
    "employeeOne.numberOfWorkingHours"
   ]
  },
  {
   "cell_type": "code",
   "execution_count": 31,
   "id": "56c1eaa2-4f84-4436-b47e-58f9859cd6e5",
   "metadata": {},
   "outputs": [
    {
     "data": {
      "text/plain": [
       "45"
      ]
     },
     "execution_count": 31,
     "metadata": {},
     "output_type": "execute_result"
    }
   ],
   "source": [
    "employeeTwo.numberOfWorkingHours"
   ]
  },
  {
   "cell_type": "markdown",
   "id": "2a96b095-e9f2-4156-a727-dd0b5899ccec",
   "metadata": {},
   "source": [
    "## - Trial 3"
   ]
  },
  {
   "cell_type": "code",
   "execution_count": 38,
   "id": "31868802-18e5-427a-839f-f52e9edcb645",
   "metadata": {},
   "outputs": [],
   "source": [
    "class Employee:\n",
    "    def employeeDetails():\n",
    "        pass"
   ]
  },
  {
   "cell_type": "code",
   "execution_count": 39,
   "id": "c4551ea0-3875-4e9b-a0f5-e7f46a228269",
   "metadata": {},
   "outputs": [],
   "source": [
    "employee = Employee()"
   ]
  },
  {
   "cell_type": "code",
   "execution_count": 40,
   "id": "71b202e1-dd91-4d92-911d-97025ca60548",
   "metadata": {},
   "outputs": [
    {
     "ename": "TypeError",
     "evalue": "Employee.employeeDetails() takes 0 positional arguments but 1 was given",
     "output_type": "error",
     "traceback": [
      "\u001b[0;31m---------------------------------------------------------------------------\u001b[0m",
      "\u001b[0;31mTypeError\u001b[0m                                 Traceback (most recent call last)",
      "Cell \u001b[0;32mIn[40], line 1\u001b[0m\n\u001b[0;32m----> 1\u001b[0m \u001b[43memployee\u001b[49m\u001b[38;5;241;43m.\u001b[39;49m\u001b[43memployeeDetails\u001b[49m\u001b[43m(\u001b[49m\u001b[43m)\u001b[49m\n",
      "\u001b[0;31mTypeError\u001b[0m: Employee.employeeDetails() takes 0 positional arguments but 1 was given"
     ]
    }
   ],
   "source": [
    "employee.employeeDetails()"
   ]
  },
  {
   "cell_type": "markdown",
   "id": "3340943e-ab7b-4a47-9471-76b1b91a88e8",
   "metadata": {},
   "source": [
    "---\n",
    "---"
   ]
  },
  {
   "cell_type": "code",
   "execution_count": 66,
   "id": "1a918e02-6eeb-4b13-8fe3-03de62206a7d",
   "metadata": {},
   "outputs": [],
   "source": [
    "class Employee:\n",
    "    def employeeDetails(self):\n",
    "        pass"
   ]
  },
  {
   "cell_type": "code",
   "execution_count": 61,
   "id": "0cd05b63-c118-4de5-9701-82e6a38a08e9",
   "metadata": {},
   "outputs": [],
   "source": [
    "employee = Employee()"
   ]
  },
  {
   "cell_type": "code",
   "execution_count": 64,
   "id": "ed15349f-1e8a-4d92-9749-dc0c9297b7c5",
   "metadata": {},
   "outputs": [],
   "source": [
    "employee.employeeDetails()"
   ]
  },
  {
   "cell_type": "markdown",
   "id": "e7421142-692b-484e-a9ac-5d8da7ba1d73",
   "metadata": {},
   "source": [
    "same as"
   ]
  },
  {
   "cell_type": "code",
   "execution_count": 65,
   "id": "79b68ab8-846b-43ba-80c8-132c73837839",
   "metadata": {},
   "outputs": [],
   "source": [
    "Employee.employeeDetails(employee)"
   ]
  },
  {
   "cell_type": "markdown",
   "id": "a1b7e68e-df4d-4469-add7-972fbbef873e",
   "metadata": {},
   "source": [
    "---\n",
    "---"
   ]
  },
  {
   "cell_type": "code",
   "execution_count": 67,
   "id": "fbbd37ef-c7e4-45d9-b001-87f506ee7c1a",
   "metadata": {},
   "outputs": [],
   "source": [
    "class Employee:\n",
    "    def employeeDetails(self):\n",
    "        self.name = \"Mathew\"\n",
    "        print(\"Name = \", self.name)\n",
    "         "
   ]
  },
  {
   "cell_type": "code",
   "execution_count": 68,
   "id": "10edfd69-c250-4322-a46d-48eee19eef85",
   "metadata": {},
   "outputs": [],
   "source": [
    "employee = Employee()"
   ]
  },
  {
   "cell_type": "code",
   "execution_count": 69,
   "id": "6eb08cf3-dc44-42ab-acc3-f6282074b156",
   "metadata": {},
   "outputs": [
    {
     "name": "stdout",
     "output_type": "stream",
     "text": [
      "Name =  Mathew\n"
     ]
    }
   ],
   "source": [
    "employee.employeeDetails()"
   ]
  },
  {
   "cell_type": "code",
   "execution_count": null,
   "id": "dd29d13d-c608-49c3-a658-3a04d672df7a",
   "metadata": {},
   "outputs": [],
   "source": []
  }
 ],
 "metadata": {
  "kernelspec": {
   "display_name": "Python 3 (ipykernel)",
   "language": "python",
   "name": "python3"
  },
  "language_info": {
   "codemirror_mode": {
    "name": "ipython",
    "version": 3
   },
   "file_extension": ".py",
   "mimetype": "text/x-python",
   "name": "python",
   "nbconvert_exporter": "python",
   "pygments_lexer": "ipython3",
   "version": "3.10.12"
  }
 },
 "nbformat": 4,
 "nbformat_minor": 5
}
