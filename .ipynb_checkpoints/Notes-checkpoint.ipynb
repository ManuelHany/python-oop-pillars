{
 "cells": [
  {
   "cell_type": "markdown",
   "id": "d7d5b533-7aa4-4286-b806-c9db6f13d921",
   "metadata": {},
   "source": [
    "# ___Notes___\n",
    "- Everything in pyhthon is an object\n",
    "- upon property(attribute) get, python first checks if there is an instance variable with that property then checks if there is a class variable and finally checks if there is a class variable with that name in the parent class.\n",
    "- actions within a class are the methods of that class.\n",
    "- class attribute is common between all instances. Instance attribute is specific to each instance.\n",
    "- Instance attribute lives within the life span of all the methodos of the class, i.e. any method can access it.\n",
    "- a local variable defined without self is only accessible within that specific method.\n",
    "- Function decorators are functions that takes other functions as parameters.\n",
    "- If I want to add a method that does not utilise any self attribute I add the decorator @staticmethod.\n",
    "- The init method acts as a constructor it enables instansiation of instance variables at the time of instanciation or creation.\n",
    "- An object can be instanciated but not initialized.\n",
    "- to create a class variable you either implement in class itself or by classname.classvariable = \"\"\n",
    "- `multiple inheritence` vs `multilevel inheritence`, multiple is when a single class inherits from two classes, while multileve is when a first class inherits from a second class that already inherits from a third class. "
   ]
  },
  {
   "cell_type": "markdown",
   "id": "a33e9ae6-a216-48fe-90a6-df147522d100",
   "metadata": {},
   "source": [
    "# __Code Snippets__"
   ]
  },
  {
   "cell_type": "markdown",
   "id": "50a34605-d5dd-4bb0-a77d-4363deb17ac7",
   "metadata": {
    "jp-MarkdownHeadingCollapsed": true
   },
   "source": [
    "## 1- Classes"
   ]
  },
  {
   "cell_type": "code",
   "execution_count": 12,
   "id": "9c8c6f0e-d24d-4ab3-aed1-b36934826753",
   "metadata": {},
   "outputs": [],
   "source": [
    "class Employee:\n",
    "    name = \"Ben\"\n",
    "    designation = \"Sales Executive\"\n",
    "    salesMadeThisWeek = 6\n",
    "\n",
    "    def hasAchievedTarget(self):\n",
    "        if self.salesMadeThisWeek >= 6:\n",
    "            print(\"Target has been achieved\")\n",
    "        else:\n",
    "            print(\"Target has not been achieved\")\n"
   ]
  },
  {
   "cell_type": "code",
   "execution_count": 13,
   "id": "be9cfaf4-18da-4f26-b942-6310251d3ddc",
   "metadata": {},
   "outputs": [],
   "source": [
    "employeeOne = Employee()"
   ]
  },
  {
   "cell_type": "code",
   "execution_count": 14,
   "id": "a017ceb6-97a4-4267-8387-62a405d2474c",
   "metadata": {},
   "outputs": [
    {
     "data": {
      "text/plain": [
       "'Ben'"
      ]
     },
     "execution_count": 14,
     "metadata": {},
     "output_type": "execute_result"
    }
   ],
   "source": [
    "employeeOne.name"
   ]
  },
  {
   "cell_type": "code",
   "execution_count": 15,
   "id": "63d18c82-9c65-4137-b30a-d671baacb5ad",
   "metadata": {},
   "outputs": [
    {
     "name": "stdout",
     "output_type": "stream",
     "text": [
      "Target has been achieved\n"
     ]
    }
   ],
   "source": [
    "employeeOne.hasAchievedTarget()"
   ]
  },
  {
   "cell_type": "code",
   "execution_count": 16,
   "id": "91c3ab9f-4d52-4fc2-baab-87b018b6a6d1",
   "metadata": {},
   "outputs": [],
   "source": [
    "employeeTwo = Employee()"
   ]
  },
  {
   "cell_type": "code",
   "execution_count": 17,
   "id": "a704f9db-14d9-45ce-88f0-7abf3bd0d088",
   "metadata": {},
   "outputs": [
    {
     "data": {
      "text/plain": [
       "'Ben'"
      ]
     },
     "execution_count": 17,
     "metadata": {},
     "output_type": "execute_result"
    }
   ],
   "source": [
    "employeeTwo.name"
   ]
  },
  {
   "cell_type": "markdown",
   "id": "cf808772-7134-47fd-9a4c-efe01812b85d",
   "metadata": {
    "jp-MarkdownHeadingCollapsed": true
   },
   "source": [
    "## 2- Class atr VS Instance atr"
   ]
  },
  {
   "cell_type": "markdown",
   "id": "7f6e3c04-146a-4f5f-942b-a3927a129ed7",
   "metadata": {
    "jp-MarkdownHeadingCollapsed": true
   },
   "source": [
    "### Class Attribute"
   ]
  },
  {
   "cell_type": "code",
   "execution_count": 12,
   "id": "1db1637b-9129-4b52-ae16-364b6cdaca07",
   "metadata": {},
   "outputs": [],
   "source": [
    "class Employee:\n",
    "    numberOfWorkingHours = 40"
   ]
  },
  {
   "cell_type": "code",
   "execution_count": 16,
   "id": "b62480bf-0b3a-4271-b942-2ee3a2caef8d",
   "metadata": {},
   "outputs": [],
   "source": [
    "employeeOne = Employee()\n",
    "employeeTwo = Employee()"
   ]
  },
  {
   "cell_type": "code",
   "execution_count": 19,
   "id": "37e96681-295c-4735-9440-5abdfcdeaaaf",
   "metadata": {},
   "outputs": [
    {
     "data": {
      "text/plain": [
       "40"
      ]
     },
     "execution_count": 19,
     "metadata": {},
     "output_type": "execute_result"
    }
   ],
   "source": [
    "employeeOne.numberOfWorkingHours"
   ]
  },
  {
   "cell_type": "code",
   "execution_count": 20,
   "id": "fffa9ace-3b71-4307-9878-02d40e8e5979",
   "metadata": {},
   "outputs": [
    {
     "data": {
      "text/plain": [
       "40"
      ]
     },
     "execution_count": 20,
     "metadata": {},
     "output_type": "execute_result"
    }
   ],
   "source": [
    "employeeTwo.numberOfWorkingHours"
   ]
  },
  {
   "cell_type": "code",
   "execution_count": 21,
   "id": "3fb4d223-c3e3-4f1d-9e43-45df4cec89de",
   "metadata": {},
   "outputs": [],
   "source": [
    "Employee.numberOfWorkingHours = 45"
   ]
  },
  {
   "cell_type": "code",
   "execution_count": 22,
   "id": "33c9f77a-6861-4d63-892d-aa2a1cc90c4b",
   "metadata": {},
   "outputs": [
    {
     "data": {
      "text/plain": [
       "45"
      ]
     },
     "execution_count": 22,
     "metadata": {},
     "output_type": "execute_result"
    }
   ],
   "source": [
    "employeeOne.numberOfWorkingHours"
   ]
  },
  {
   "cell_type": "code",
   "execution_count": 23,
   "id": "285d2e17-7e93-4e71-a22a-848e0c160c4c",
   "metadata": {},
   "outputs": [
    {
     "data": {
      "text/plain": [
       "45"
      ]
     },
     "execution_count": 23,
     "metadata": {},
     "output_type": "execute_result"
    }
   ],
   "source": [
    "employeeTwo.numberOfWorkingHours"
   ]
  },
  {
   "cell_type": "markdown",
   "id": "12fe9839-6497-418d-9ec7-f0b9e612681b",
   "metadata": {
    "jp-MarkdownHeadingCollapsed": true
   },
   "source": [
    "### Instance Attribute"
   ]
  },
  {
   "cell_type": "code",
   "execution_count": 24,
   "id": "45f7dd8b-dffd-47d4-b037-f3c61a2fd086",
   "metadata": {},
   "outputs": [
    {
     "data": {
      "text/plain": [
       "'John'"
      ]
     },
     "execution_count": 24,
     "metadata": {},
     "output_type": "execute_result"
    }
   ],
   "source": [
    "employeeOne.name = \"John\"\n",
    "employeeOne.name"
   ]
  },
  {
   "cell_type": "code",
   "execution_count": 25,
   "id": "63bae660-6566-4fb2-ad52-5b2ed9b52951",
   "metadata": {},
   "outputs": [
    {
     "ename": "AttributeError",
     "evalue": "'Employee' object has no attribute 'name'",
     "output_type": "error",
     "traceback": [
      "\u001b[0;31m---------------------------------------------------------------------------\u001b[0m",
      "\u001b[0;31mAttributeError\u001b[0m                            Traceback (most recent call last)",
      "Cell \u001b[0;32mIn[25], line 1\u001b[0m\n\u001b[0;32m----> 1\u001b[0m \u001b[43memployeeTwo\u001b[49m\u001b[38;5;241;43m.\u001b[39;49m\u001b[43mname\u001b[49m\n",
      "\u001b[0;31mAttributeError\u001b[0m: 'Employee' object has no attribute 'name'"
     ]
    }
   ],
   "source": [
    "employeeTwo.name"
   ]
  },
  {
   "cell_type": "code",
   "execution_count": 26,
   "id": "2bde6dc9-bb6b-4bcd-b878-19ace3755796",
   "metadata": {},
   "outputs": [
    {
     "data": {
      "text/plain": [
       "'Mary'"
      ]
     },
     "execution_count": 26,
     "metadata": {},
     "output_type": "execute_result"
    }
   ],
   "source": [
    "employeeTwo.name = \"Mary\"\n",
    "employeeTwo.name"
   ]
  },
  {
   "cell_type": "code",
   "execution_count": 27,
   "id": "a7f36598-6d5a-429a-8614-11f2598614c8",
   "metadata": {},
   "outputs": [
    {
     "data": {
      "text/plain": [
       "40"
      ]
     },
     "execution_count": 27,
     "metadata": {},
     "output_type": "execute_result"
    }
   ],
   "source": [
    "employeeOne.numberOfWorkingHours = 40\n",
    "employeeOne.numberOfWorkingHours"
   ]
  },
  {
   "cell_type": "code",
   "execution_count": 28,
   "id": "15ab2bc3-e23d-4301-8448-28f1d37094ce",
   "metadata": {},
   "outputs": [
    {
     "data": {
      "text/plain": [
       "45"
      ]
     },
     "execution_count": 28,
     "metadata": {},
     "output_type": "execute_result"
    }
   ],
   "source": [
    "employeeTwo.numberOfWorkingHours"
   ]
  },
  {
   "cell_type": "markdown",
   "id": "2a96b095-e9f2-4156-a727-dd0b5899ccec",
   "metadata": {
    "jp-MarkdownHeadingCollapsed": true
   },
   "source": [
    "## 3- Self Param"
   ]
  },
  {
   "cell_type": "code",
   "execution_count": 38,
   "id": "31868802-18e5-427a-839f-f52e9edcb645",
   "metadata": {},
   "outputs": [],
   "source": [
    "class Employee:\n",
    "    def employeeDetails():\n",
    "        pass"
   ]
  },
  {
   "cell_type": "code",
   "execution_count": 39,
   "id": "c4551ea0-3875-4e9b-a0f5-e7f46a228269",
   "metadata": {},
   "outputs": [],
   "source": [
    "employee = Employee()"
   ]
  },
  {
   "cell_type": "code",
   "execution_count": 40,
   "id": "71b202e1-dd91-4d92-911d-97025ca60548",
   "metadata": {},
   "outputs": [
    {
     "ename": "TypeError",
     "evalue": "Employee.employeeDetails() takes 0 positional arguments but 1 was given",
     "output_type": "error",
     "traceback": [
      "\u001b[0;31m---------------------------------------------------------------------------\u001b[0m",
      "\u001b[0;31mTypeError\u001b[0m                                 Traceback (most recent call last)",
      "Cell \u001b[0;32mIn[40], line 1\u001b[0m\n\u001b[0;32m----> 1\u001b[0m \u001b[43memployee\u001b[49m\u001b[38;5;241;43m.\u001b[39;49m\u001b[43memployeeDetails\u001b[49m\u001b[43m(\u001b[49m\u001b[43m)\u001b[49m\n",
      "\u001b[0;31mTypeError\u001b[0m: Employee.employeeDetails() takes 0 positional arguments but 1 was given"
     ]
    }
   ],
   "source": [
    "employee.employeeDetails()"
   ]
  },
  {
   "cell_type": "markdown",
   "id": "3340943e-ab7b-4a47-9471-76b1b91a88e8",
   "metadata": {},
   "source": [
    "---\n",
    "---"
   ]
  },
  {
   "cell_type": "code",
   "execution_count": 66,
   "id": "1a918e02-6eeb-4b13-8fe3-03de62206a7d",
   "metadata": {},
   "outputs": [],
   "source": [
    "class Employee:\n",
    "    def employeeDetails(self):\n",
    "        pass"
   ]
  },
  {
   "cell_type": "code",
   "execution_count": 61,
   "id": "0cd05b63-c118-4de5-9701-82e6a38a08e9",
   "metadata": {},
   "outputs": [],
   "source": [
    "employee = Employee()"
   ]
  },
  {
   "cell_type": "code",
   "execution_count": 64,
   "id": "ed15349f-1e8a-4d92-9749-dc0c9297b7c5",
   "metadata": {},
   "outputs": [],
   "source": [
    "employee.employeeDetails()"
   ]
  },
  {
   "cell_type": "markdown",
   "id": "e7421142-692b-484e-a9ac-5d8da7ba1d73",
   "metadata": {},
   "source": [
    "same as"
   ]
  },
  {
   "cell_type": "code",
   "execution_count": 65,
   "id": "79b68ab8-846b-43ba-80c8-132c73837839",
   "metadata": {},
   "outputs": [],
   "source": [
    "Employee.employeeDetails(employee)"
   ]
  },
  {
   "cell_type": "markdown",
   "id": "a1b7e68e-df4d-4469-add7-972fbbef873e",
   "metadata": {},
   "source": [
    "---\n",
    "---"
   ]
  },
  {
   "cell_type": "code",
   "execution_count": 50,
   "id": "fbbd37ef-c7e4-45d9-b001-87f506ee7c1a",
   "metadata": {},
   "outputs": [],
   "source": [
    "class Employee:\n",
    "    def employeeDetails(self):\n",
    "        self.name = \"Mathew\"\n",
    "        age = 50\n",
    "        print(\"Name = \", self.name)\n",
    "\n",
    "    def anotherInstanceMethod(self):\n",
    "        print(self.name)\n",
    "        print(age)\n",
    "         "
   ]
  },
  {
   "cell_type": "code",
   "execution_count": 51,
   "id": "10edfd69-c250-4322-a46d-48eee19eef85",
   "metadata": {},
   "outputs": [],
   "source": [
    "employee = Employee()"
   ]
  },
  {
   "cell_type": "code",
   "execution_count": 52,
   "id": "6eb08cf3-dc44-42ab-acc3-f6282074b156",
   "metadata": {},
   "outputs": [
    {
     "name": "stdout",
     "output_type": "stream",
     "text": [
      "Name =  Mathew\n"
     ]
    }
   ],
   "source": [
    "employee.employeeDetails()"
   ]
  },
  {
   "cell_type": "code",
   "execution_count": 53,
   "id": "f0fa756a-50dc-4aa3-85b8-d3d9895f2e76",
   "metadata": {},
   "outputs": [
    {
     "name": "stdout",
     "output_type": "stream",
     "text": [
      "Mathew\n"
     ]
    },
    {
     "ename": "NameError",
     "evalue": "name 'age' is not defined",
     "output_type": "error",
     "traceback": [
      "\u001b[0;31m---------------------------------------------------------------------------\u001b[0m",
      "\u001b[0;31mNameError\u001b[0m                                 Traceback (most recent call last)",
      "Cell \u001b[0;32mIn[53], line 1\u001b[0m\n\u001b[0;32m----> 1\u001b[0m \u001b[43memployee\u001b[49m\u001b[38;5;241;43m.\u001b[39;49m\u001b[43manotherInstanceMethod\u001b[49m\u001b[43m(\u001b[49m\u001b[43m)\u001b[49m\n",
      "Cell \u001b[0;32mIn[50], line 9\u001b[0m, in \u001b[0;36mEmployee.anotherInstanceMethod\u001b[0;34m(self)\u001b[0m\n\u001b[1;32m      7\u001b[0m \u001b[38;5;28;01mdef\u001b[39;00m \u001b[38;5;21manotherInstanceMethod\u001b[39m(\u001b[38;5;28mself\u001b[39m):\n\u001b[1;32m      8\u001b[0m     \u001b[38;5;28mprint\u001b[39m(\u001b[38;5;28mself\u001b[39m\u001b[38;5;241m.\u001b[39mname)\n\u001b[0;32m----> 9\u001b[0m     \u001b[38;5;28mprint\u001b[39m(\u001b[43mage\u001b[49m)\n",
      "\u001b[0;31mNameError\u001b[0m: name 'age' is not defined"
     ]
    }
   ],
   "source": [
    "employee.anotherInstanceMethod()"
   ]
  },
  {
   "cell_type": "markdown",
   "id": "1766fc27-e919-4008-b89b-184e77d71946",
   "metadata": {},
   "source": [
    "---\n",
    "---"
   ]
  },
  {
   "cell_type": "code",
   "execution_count": 54,
   "id": "43e4b0c7-49e6-4298-99c0-f554e3d65229",
   "metadata": {},
   "outputs": [],
   "source": [
    "class Employee:\n",
    "    def employeeDetails(self):\n",
    "        self.name = \"Ben\"\n",
    "\n",
    "    @staticmethod\n",
    "    def welcomeMessage():\n",
    "        print(\"Welcome to our organization!\")\n",
    "         "
   ]
  },
  {
   "cell_type": "code",
   "execution_count": 56,
   "id": "ba06ba52-e23d-4aea-9283-abf7635916c6",
   "metadata": {},
   "outputs": [],
   "source": [
    "employee = Employee()"
   ]
  },
  {
   "cell_type": "code",
   "execution_count": 57,
   "id": "fee68d7b-1558-41cc-88d2-50483259cdaa",
   "metadata": {},
   "outputs": [
    {
     "name": "stdout",
     "output_type": "stream",
     "text": [
      "Ben\n",
      "Welcome to our organization!\n"
     ]
    }
   ],
   "source": [
    "employee.employeeDetails()\n",
    "print(employee.name)\n",
    "employee.welcomeMessage()"
   ]
  },
  {
   "cell_type": "markdown",
   "id": "f53f9eb3-e2fd-476b-9c94-7713914c0521",
   "metadata": {
    "jp-MarkdownHeadingCollapsed": true
   },
   "source": [
    "## 4- __ init __"
   ]
  },
  {
   "cell_type": "code",
   "execution_count": 64,
   "id": "4cce0cb2-b903-4c0f-9f5b-b5cfcedaeafa",
   "metadata": {},
   "outputs": [],
   "source": [
    "class Employee:\n",
    "\n",
    "    def __init__(self):\n",
    "        self.name = \"Mark\"\n",
    "\n",
    "    def displayemployeeDetails(self):\n",
    "        print(self.name)"
   ]
  },
  {
   "cell_type": "code",
   "execution_count": 65,
   "id": "07bedc89-a358-44ad-9e53-82457fb5e721",
   "metadata": {},
   "outputs": [
    {
     "name": "stdout",
     "output_type": "stream",
     "text": [
      "Mark\n",
      "Mark\n"
     ]
    }
   ],
   "source": [
    "employee = Employee()\n",
    "employeeTwo = Employee()\n",
    "employee.displayemployeeDetails()\n",
    "employeeTwo.displayemployeeDetails()"
   ]
  },
  {
   "cell_type": "markdown",
   "id": "fa639784-4a76-4c10-9b9e-78a7ff7074da",
   "metadata": {},
   "source": [
    "---\n",
    "---"
   ]
  },
  {
   "cell_type": "code",
   "execution_count": 70,
   "id": "b2507133-543b-4960-bbb4-c7872bbb3e80",
   "metadata": {},
   "outputs": [],
   "source": [
    "class Employee:\n",
    "\n",
    "    def __init__(self, name):\n",
    "        self.name = name\n",
    "\n",
    "    def displayemployeeDetails(self):\n",
    "        print(self.name)"
   ]
  },
  {
   "cell_type": "code",
   "execution_count": 71,
   "id": "b000becb-158b-4586-898a-7f970be37d6f",
   "metadata": {},
   "outputs": [
    {
     "name": "stdout",
     "output_type": "stream",
     "text": [
      "Ben\n",
      "Mark\n"
     ]
    }
   ],
   "source": [
    "employee = Employee(\"Ben\")\n",
    "employeeTwo = Employee(\"Mark\")\n",
    "employee.displayemployeeDetails()\n",
    "employeeTwo.displayemployeeDetails()"
   ]
  },
  {
   "cell_type": "markdown",
   "id": "10149956-1d89-400f-9e32-a4324e359ca1",
   "metadata": {
    "jp-MarkdownHeadingCollapsed": true
   },
   "source": [
    "## 5- Inheritence"
   ]
  },
  {
   "cell_type": "markdown",
   "id": "f4ae6297-0d3b-4f19-9f17-7c49fa924b51",
   "metadata": {
    "jp-MarkdownHeadingCollapsed": true
   },
   "source": [
    "### single inheritence"
   ]
  },
  {
   "cell_type": "code",
   "execution_count": 6,
   "id": "faa1d913-43e8-4cf9-87e3-cf893960e537",
   "metadata": {},
   "outputs": [],
   "source": [
    " class Apple:\n",
    "     manufacturer = \"Apple Inc.\"\n",
    "     contacWebsite = \"www.apple.com/contact\"\n",
    "\n",
    "     def contactDetails(self):\n",
    "         print(\"To contact us, log on to \", self.contacWebsite)"
   ]
  },
  {
   "cell_type": "code",
   "execution_count": 8,
   "id": "6b892629-4468-4055-80cb-7f31e9864af4",
   "metadata": {},
   "outputs": [],
   "source": [
    "class MacBook(Apple):\n",
    "    def __init__(self):\n",
    "        self.yearOfManufacture = 2017\n",
    "\n",
    "    def manufactureDetails(self):\n",
    "        print(\"this MacBook was manufactured in the year {} by {}\".format(self.yearOfManufacture, self.manufacturer))"
   ]
  },
  {
   "cell_type": "code",
   "execution_count": 9,
   "id": "fcff035f-1bba-487d-8c21-c8a72cb36f73",
   "metadata": {},
   "outputs": [
    {
     "name": "stdout",
     "output_type": "stream",
     "text": [
      "this MacBook was manufactured in the year 2017 by Apple Inc.\n",
      "To contact us, log on to  www.apple.com/contact\n"
     ]
    }
   ],
   "source": [
    "macBook = MacBook()\n",
    "macBook.manufactureDetails()\n",
    "macBook.contactDetails()"
   ]
  },
  {
   "cell_type": "markdown",
   "id": "7e1a5036-0baf-4f9c-be8e-4cf51b27555c",
   "metadata": {},
   "source": [
    "---\n",
    "---\n",
    "---"
   ]
  },
  {
   "cell_type": "markdown",
   "id": "4278bd65-13e1-40a7-a11f-6bda53125913",
   "metadata": {
    "jp-MarkdownHeadingCollapsed": true
   },
   "source": [
    "### multiple inheritence"
   ]
  },
  {
   "cell_type": "code",
   "execution_count": 10,
   "id": "aef59dd1-8de6-4be6-a17a-832f75a06f2b",
   "metadata": {},
   "outputs": [],
   "source": [
    "class OperatingSystem:\n",
    "    multitasking = True\n",
    "    name = \"Mac OS\""
   ]
  },
  {
   "cell_type": "code",
   "execution_count": 11,
   "id": "6f3dbcbd-7097-4805-bb49-95b6f471df6f",
   "metadata": {},
   "outputs": [],
   "source": [
    "class Apple:\n",
    "    website = \"www.apple.com\"\n",
    "    name = \"Apple\""
   ]
  },
  {
   "cell_type": "code",
   "execution_count": 17,
   "id": "930e4e72-f5cd-4f1e-a3a3-5f5dd2539a29",
   "metadata": {},
   "outputs": [],
   "source": [
    "class MacBook(Apple, OperatingSystem):\n",
    "    def __init__(self):\n",
    "        if self.multitasking is True:\n",
    "            print(\"This is a multi tasking system. Visit {} for more details\".format(self.website))\n",
    "            print(\"Name : \" ,self.name)"
   ]
  },
  {
   "cell_type": "code",
   "execution_count": 18,
   "id": "67b7d51b-8c63-4678-98a3-280f1b160b33",
   "metadata": {},
   "outputs": [
    {
     "name": "stdout",
     "output_type": "stream",
     "text": [
      "This is a multi tasking system. Visit www.apple.com for more details\n",
      "Name :  Apple\n"
     ]
    }
   ],
   "source": [
    "macBook = MacBook()"
   ]
  },
  {
   "cell_type": "markdown",
   "id": "e9ae3b20-f111-4d6a-a78f-1a260e35a7f9",
   "metadata": {},
   "source": [
    "---\n",
    "---\n",
    "---"
   ]
  },
  {
   "cell_type": "markdown",
   "id": "93163ed9-4d7d-4fa6-acce-ccfc982b58b1",
   "metadata": {
    "jp-MarkdownHeadingCollapsed": true
   },
   "source": [
    "### multilevel inheritence"
   ]
  },
  {
   "cell_type": "code",
   "execution_count": 19,
   "id": "d43bf16a-d1dd-4337-86e5-1b5ff3db42c4",
   "metadata": {},
   "outputs": [],
   "source": [
    "class MusicalInstruments:\n",
    "    numberOfMajorKeys = 12"
   ]
  },
  {
   "cell_type": "code",
   "execution_count": 20,
   "id": "0b5c72a1-edb6-4af3-afd0-a6a09f6fc37e",
   "metadata": {},
   "outputs": [],
   "source": [
    "class StringInstruments(MusicalInstruments):\n",
    "    typeOfWood = \"Tonewood\""
   ]
  },
  {
   "cell_type": "code",
   "execution_count": 23,
   "id": "79dbb099-11a4-47dd-b8d2-b014c052f4d9",
   "metadata": {},
   "outputs": [],
   "source": [
    "class Guitar(StringInstruments):\n",
    "    def __init__(self):\n",
    "        self.numberOfStrings = 6\n",
    "        print(\"This fuitar consists of {} strings. It is made of {} and it can play {} keys\".format(self.numberOfStrings, self.typeOfWood, self.numberOfMajorKeys))"
   ]
  },
  {
   "cell_type": "code",
   "execution_count": 24,
   "id": "889ea5ed-99d7-4972-812d-a92f478e1d82",
   "metadata": {},
   "outputs": [
    {
     "name": "stdout",
     "output_type": "stream",
     "text": [
      "This fuitar consists of 6 strings. It is made of Tonewood and it can play 12 keys\n"
     ]
    }
   ],
   "source": [
    "guitar = Guitar()\n"
   ]
  },
  {
   "cell_type": "markdown",
   "id": "3706eacf-4880-457d-b5b3-381e66c79f12",
   "metadata": {},
   "source": [
    "---\n",
    "---\n",
    "---"
   ]
  },
  {
   "cell_type": "markdown",
   "id": "0921de1e-eb4a-46ff-bda1-e8388ba080ba",
   "metadata": {
    "jp-MarkdownHeadingCollapsed": true
   },
   "source": [
    "## Private and Public variables"
   ]
  },
  {
   "cell_type": "code",
   "execution_count": 39,
   "id": "9e1e4fd8-35a3-41c2-89f3-5138444ca032",
   "metadata": {},
   "outputs": [],
   "source": [
    "# Public => memberName\n",
    "# Protects => _memberName (use within this class and derived classes)\n",
    "# Private => __memberName (use within this class only!)"
   ]
  },
  {
   "cell_type": "code",
   "execution_count": 43,
   "id": "ebcf875a-f047-4f2d-b020-a9774cb4ccb0",
   "metadata": {},
   "outputs": [],
   "source": [
    "class Car:\n",
    "    numberOfWheels = 4 \n",
    "    _color = \"Black\"\n",
    "    __yearOfmanufacture = 2017 # => _Car_yearOfManufacture (This is Called mangling)"
   ]
  },
  {
   "cell_type": "code",
   "execution_count": 41,
   "id": "96ecf589-14ec-4fdd-992a-314a368ef19e",
   "metadata": {},
   "outputs": [],
   "source": [
    "class Bmw(Car):\n",
    "    def __init__(self):\n",
    "        print(\"Protected attribute colos: \", self._color)"
   ]
  },
  {
   "cell_type": "code",
   "execution_count": 42,
   "id": "9d950dbb-cbf7-4a9f-9af6-8d81c699dcba",
   "metadata": {},
   "outputs": [
    {
     "name": "stdout",
     "output_type": "stream",
     "text": [
      "Public attribue numberOfWheels:  4\n",
      "Protected attribute colos:  Black\n"
     ]
    },
    {
     "ename": "AttributeError",
     "evalue": "'Car' object has no attribute '__yearOfmanufacture'",
     "output_type": "error",
     "traceback": [
      "\u001b[0;31m---------------------------------------------------------------------------\u001b[0m",
      "\u001b[0;31mAttributeError\u001b[0m                            Traceback (most recent call last)",
      "Cell \u001b[0;32mIn[42], line 4\u001b[0m\n\u001b[1;32m      2\u001b[0m \u001b[38;5;28mprint\u001b[39m(\u001b[38;5;124m\"\u001b[39m\u001b[38;5;124mPublic attribue numberOfWheels: \u001b[39m\u001b[38;5;124m\"\u001b[39m, car\u001b[38;5;241m.\u001b[39mnumberOfWheels)\n\u001b[1;32m      3\u001b[0m bmw \u001b[38;5;241m=\u001b[39m Bmw()\n\u001b[0;32m----> 4\u001b[0m \u001b[38;5;28mprint\u001b[39m(\u001b[38;5;124m\"\u001b[39m\u001b[38;5;124mPrivate attribue yearsOfManufacture: \u001b[39m\u001b[38;5;124m\"\u001b[39m, \u001b[43mcar\u001b[49m\u001b[38;5;241;43m.\u001b[39;49m\u001b[43m__yearOfmanufacture\u001b[49m)\n",
      "\u001b[0;31mAttributeError\u001b[0m: 'Car' object has no attribute '__yearOfmanufacture'"
     ]
    }
   ],
   "source": [
    "car = Car()\n",
    "print(\"Public attribue numberOfWheels: \", car.numberOfWheels)\n",
    "bmw = Bmw()\n",
    "print(\"Private attribue yearsOfManufacture: \", car.__yearOfmanufacture)"
   ]
  },
  {
   "cell_type": "code",
   "execution_count": null,
   "id": "fd6df06f-47b5-48ca-940f-5f832dc8bf76",
   "metadata": {},
   "outputs": [],
   "source": []
  },
  {
   "cell_type": "markdown",
   "id": "483b65ef-d803-41de-87a4-38b1b7e78402",
   "metadata": {},
   "source": [
    "# ___Excercises___"
   ]
  },
  {
   "cell_type": "markdown",
   "id": "71250018-ed59-43d0-9d2f-b992bf446639",
   "metadata": {
    "jp-MarkdownHeadingCollapsed": true
   },
   "source": [
    "## Attributes and Methods\n",
    "\n",
    "Write an object oriented program to create a precious stone.\n",
    "Not more than 5 precious stones can be held in possession at a\n",
    "given point of time. If there are more than 5 precious stones,\n",
    "delete the first stone and store the new one."
   ]
  },
  {
   "cell_type": "code",
   "execution_count": 77,
   "id": "27a17973-c6cd-41f8-b3b8-412b19a2c1ec",
   "metadata": {},
   "outputs": [],
   "source": [
    "class PreciousStone:\n",
    "\n",
    "    stoneCount = 0\n",
    "    preciousStoneCollection = []\n",
    "    \n",
    "    def __init__(self, name):\n",
    "        self.name = name\n",
    "        PreciousStone.stoneCount += 1\n",
    "        if PreciousStone.stoneCount <= 5:\n",
    "            PreciousStone.preciousStoneCollection.append(self)\n",
    "        else:\n",
    "            del PreciousStone.preciousStoneCollection[0]\n",
    "            PreciousStone.preciousStoneCollection.append(self)\n",
    "\n",
    "    @staticmethod\n",
    "    def displayPreciousStones():\n",
    "        for preciousStone in PreciousStone.preciousStoneCollection:\n",
    "            print(preciousStone.name, end = ' ')\n",
    "        print()\n",
    "            \n"
   ]
  },
  {
   "cell_type": "code",
   "execution_count": 79,
   "id": "8a94a0ba-9016-44f8-b01d-322ddb9b597c",
   "metadata": {},
   "outputs": [],
   "source": [
    "preciousStoneOne  = PreciousStone(\"Ruby\")\n",
    "preciousStoneTwo  = PreciousStone(\"Emerald\")\n",
    "preciousStoneThree  = PreciousStone(\"Sapphire\")\n",
    "preciousStoneFour  = PreciousStone(\"Diamond\")\n",
    "preciousStoneFive  = PreciousStone(\"Amber\")"
   ]
  },
  {
   "cell_type": "code",
   "execution_count": 80,
   "id": "716e7e94-b283-4ad9-b7af-c40f24874148",
   "metadata": {},
   "outputs": [
    {
     "name": "stdout",
     "output_type": "stream",
     "text": [
      "Ruby Emerald Sapphire Diamond Amber \n"
     ]
    }
   ],
   "source": [
    "preciousStoneFive.displayPreciousStones()"
   ]
  },
  {
   "cell_type": "code",
   "execution_count": 81,
   "id": "406746b1-934e-4a17-aabc-e3399321d1f9",
   "metadata": {},
   "outputs": [],
   "source": [
    "preciousStoneSix = PreciousStone(\"Onyx\")"
   ]
  },
  {
   "cell_type": "code",
   "execution_count": 82,
   "id": "767ce13c-95f7-4e75-a70a-b445a64fbbd4",
   "metadata": {},
   "outputs": [
    {
     "name": "stdout",
     "output_type": "stream",
     "text": [
      "Emerald Sapphire Diamond Amber Onyx \n"
     ]
    }
   ],
   "source": [
    "preciousStoneFive.displayPreciousStones()"
   ]
  },
  {
   "cell_type": "markdown",
   "id": "3ee466fc-a305-4e49-af0c-e8afdda24268",
   "metadata": {
    "jp-MarkdownHeadingCollapsed": true
   },
   "source": [
    "## Abstraction and Encapsulation (Library)\n",
    "\n",
    "Implement a library management system which will handle the following tasks:\n",
    "- Customer should be able to diplay all the books abailable in the library.\n",
    "- Handle the process when a customer requests to borrow a book.\n",
    "- Update the library collection when the customer rutrns a book.\n",
    "\n",
    "N.B. Course answer he splitted it into 2 classes, Library and customer."
   ]
  },
  {
   "cell_type": "code",
   "execution_count": 37,
   "id": "3f4bd8ab-77d6-4ab6-b371-b2707ea3a262",
   "metadata": {},
   "outputs": [],
   "source": [
    "class Library:\n",
    "\n",
    "    booksAvailable = ['A Man Search of Meaning', 'A Brief History of Time', 'Mere Christianity', 'Think Like a Monk', 'The Porn Myth']\n",
    "\n",
    "\n",
    "    def __init__(self, LibraryName):\n",
    "        self.booksBorrowed = []\n",
    "        self.name = LibraryName\n",
    "        self.booksAvailable = Library.booksAvailable\n",
    "        self.booksBorrowed = []\n",
    "\n",
    "    \n",
    "    def addBook(self, bookName):\n",
    "        if bookName not in self.booksAvailable:\n",
    "            self.booksAvailable.append(bookName)\n",
    "        else:\n",
    "            print(\"The is already there!\")\n",
    "\n",
    "    \n",
    "    def borrowRequest(self, bookName):\n",
    "        if bookName in self.booksBorrowed:\n",
    "            print(\"Sorry, the book you requested is already borrowed by someone else\")\n",
    "            \n",
    "        elif bookName in Library.booksAvailable:\n",
    "            self.booksAvailable.remove(bookName)\n",
    "            self.booksBorrowed.append(bookName)\n",
    "            print(f\"You have successfully borrowed {bookName}\")\n",
    "\n",
    "        else:\n",
    "            print(\"The book you requested is not available in our library\")\n",
    "\n",
    "\n",
    "    def returnBook(self, bookName):\n",
    "        try:\n",
    "            self.booksBorrowed.remove(bookName)\n",
    "            self.booksAvailable.append(bookName)\n",
    "            print(f\"We successfully received {bookName}, hope you enjoyed it!!\")\n",
    "        except:\n",
    "            print(\"The book you requested was not borrowed!!\")\n",
    "\n",
    "    \n",
    "    def displayAvailableBooks(self):\n",
    "        print(\"\\n\".join([str(book) for book in self.booksAvailable]))\n"
   ]
  },
  {
   "cell_type": "code",
   "execution_count": 38,
   "id": "02d5cc24-5dbc-4617-be28-0353dfec8fa5",
   "metadata": {},
   "outputs": [],
   "source": [
    "Lib1 = Library(\"Manuel's Lib\")"
   ]
  },
  {
   "cell_type": "code",
   "execution_count": 39,
   "id": "8daf2755-474f-436a-9ea1-d3e36612c950",
   "metadata": {},
   "outputs": [
    {
     "name": "stdout",
     "output_type": "stream",
     "text": [
      "A Man Search of Meaning\n",
      "A Brief History of Time\n",
      "Mere Christianity\n",
      "Think Like a Monk\n",
      "The Porn Myth\n"
     ]
    }
   ],
   "source": [
    "Lib1.displayAvailableBooks()"
   ]
  },
  {
   "cell_type": "code",
   "execution_count": 40,
   "id": "053ce794-c543-499f-9f85-729ac7ee951f",
   "metadata": {},
   "outputs": [],
   "source": [
    "Lib1.addBook(\"Counterfet Gods\")"
   ]
  },
  {
   "cell_type": "code",
   "execution_count": 41,
   "id": "6839c118-acc2-405c-bd64-20f8bc0946bd",
   "metadata": {},
   "outputs": [
    {
     "name": "stdout",
     "output_type": "stream",
     "text": [
      "A Man Search of Meaning\n",
      "A Brief History of Time\n",
      "Mere Christianity\n",
      "Think Like a Monk\n",
      "The Porn Myth\n",
      "Counterfet Gods\n"
     ]
    }
   ],
   "source": [
    "Lib1.displayAvailableBooks()"
   ]
  },
  {
   "cell_type": "code",
   "execution_count": 42,
   "id": "d9d3201b-7967-4060-85c9-9ac723945645",
   "metadata": {},
   "outputs": [
    {
     "name": "stdout",
     "output_type": "stream",
     "text": [
      "The book you requested is not available in our library\n"
     ]
    }
   ],
   "source": [
    "Lib1.borrowRequest(\"zangar\")"
   ]
  },
  {
   "cell_type": "code",
   "execution_count": 43,
   "id": "fdf651e1-e6e7-4954-808a-d6b7a8a3582b",
   "metadata": {},
   "outputs": [
    {
     "name": "stdout",
     "output_type": "stream",
     "text": [
      "You have successfully borrowed Mere Christianity\n"
     ]
    }
   ],
   "source": [
    "Lib1.borrowRequest(\"Mere Christianity\")"
   ]
  },
  {
   "cell_type": "code",
   "execution_count": 44,
   "id": "2d6228f0-671d-478a-99f6-780458d0fcdd",
   "metadata": {},
   "outputs": [
    {
     "name": "stdout",
     "output_type": "stream",
     "text": [
      "Sorry, the book you requested is already borrowed by someone else\n"
     ]
    }
   ],
   "source": [
    "Lib1.borrowRequest(\"Mere Christianity\")"
   ]
  },
  {
   "cell_type": "code",
   "execution_count": 45,
   "id": "952f60d0-60f9-47cd-be15-afd6a2caab3f",
   "metadata": {},
   "outputs": [
    {
     "name": "stdout",
     "output_type": "stream",
     "text": [
      "We successfully received Mere Christianity, hope you enjoyed it!!\n"
     ]
    }
   ],
   "source": [
    "Lib1.returnBook(\"Mere Christianity\")"
   ]
  },
  {
   "cell_type": "code",
   "execution_count": 46,
   "id": "bddefb2e-f1d3-4956-b027-3465f11f2e77",
   "metadata": {},
   "outputs": [
    {
     "name": "stdout",
     "output_type": "stream",
     "text": [
      "The book you requested was not borrowed!!\n"
     ]
    }
   ],
   "source": [
    "Lib1.returnBook(\"Zangar\")"
   ]
  },
  {
   "cell_type": "markdown",
   "id": "06e3ee3e-28d4-41b2-941e-72c0cfc72804",
   "metadata": {},
   "source": [
    "## Abstraction and Encapsulation (car rental)\n",
    "\n",
    "Similar to a library management system, write a program to\n",
    "provide layers of abstraction for a car rental system.\n",
    "Your program should perform the following:\n",
    "1. Hatchback, Sedan, SUV should be type of cars that are\n",
    "being provided for rent\n",
    "2. Cost per day:\n",
    "Hatchback - $30\n",
    "Sedan\n",
    " - $50\n",
    "SUV\n",
    " - $100\n",
    "3. Give a prompt to the customer asking him the type of car\n",
    "and the number of days he would like to borrow and provide the\n",
    "fare details to the user."
   ]
  },
  {
   "cell_type": "code",
   "execution_count": 44,
   "id": "50b6537b-f52f-48fd-80c0-a0ad613af6d3",
   "metadata": {},
   "outputs": [],
   "source": [
    "### To Be Implemented"
   ]
  },
  {
   "cell_type": "markdown",
   "id": "d8c53966-f8bf-47cf-bc02-a52a565bac17",
   "metadata": {},
   "source": [
    "## Inheritance \n",
    "Write an object oriented program that performs the following tasks:\n",
    "1. Create a class called Chair from the base class Furniture\n",
    "2. Teakwood should be the type of furniture that is used by all furnitures by\n",
    "default\n",
    "3. The user can be given an option to change the type of wood used for chair if\n",
    "he wishes to\n",
    "4. The number of legs of a chair should be a property that should not be altered\n",
    "outside the class"
   ]
  },
  {
   "cell_type": "markdown",
   "id": "80591b8f-27a3-4880-a06e-2cecfdc956d7",
   "metadata": {},
   "source": [
    "### My Answer"
   ]
  },
  {
   "cell_type": "code",
   "execution_count": 45,
   "id": "49cfe453-f5ef-4118-888a-4f05e25a5ee9",
   "metadata": {},
   "outputs": [],
   "source": [
    "class Furniture():\n",
    "    typeOfFurniture = \"Teakwood\""
   ]
  },
  {
   "cell_type": "code",
   "execution_count": 59,
   "id": "60b90cdf-4e38-409f-90de-1e4f92dc6ee2",
   "metadata": {},
   "outputs": [],
   "source": [
    "class Chair(Furniture):\n",
    "    __numberOfLegs = 4\n",
    "    \n",
    "    def __init__(self, typeOfFurniture=None):\n",
    "        self.typeOfFurniture = super().typeOfFurniture if typeOfFurniture is None else typeOfFurniture\n",
    "\n",
    "\n",
    "    def numberOfLegs(self):\n",
    "        return self.__numberOfLegs\n",
    "        "
   ]
  },
  {
   "cell_type": "code",
   "execution_count": 60,
   "id": "b82c0368-96e8-48a7-bde4-adf80b97eed6",
   "metadata": {},
   "outputs": [
    {
     "data": {
      "text/plain": [
       "'Teakwood'"
      ]
     },
     "execution_count": 60,
     "metadata": {},
     "output_type": "execute_result"
    }
   ],
   "source": [
    "chairOne = Chair()\n",
    "chairOne.typeOfFurniture"
   ]
  },
  {
   "cell_type": "code",
   "execution_count": 61,
   "id": "f982b506-636d-4896-b373-8c59a75707b0",
   "metadata": {},
   "outputs": [
    {
     "data": {
      "text/plain": [
       "'Abanoos'"
      ]
     },
     "execution_count": 61,
     "metadata": {},
     "output_type": "execute_result"
    }
   ],
   "source": [
    "chairTwo = Chair(\"Abanoos\")\n",
    "chairTwo.typeOfFurniture"
   ]
  },
  {
   "cell_type": "code",
   "execution_count": 62,
   "id": "835239fc-0b50-455f-98a7-d44a3dbc3b7a",
   "metadata": {},
   "outputs": [
    {
     "data": {
      "text/plain": [
       "4"
      ]
     },
     "execution_count": 62,
     "metadata": {},
     "output_type": "execute_result"
    }
   ],
   "source": [
    "chairOne.numberOfLegs()"
   ]
  },
  {
   "cell_type": "markdown",
   "id": "5e61966c-9de3-421a-92bc-39a2286e5b7e",
   "metadata": {},
   "source": [
    "---\n",
    "---\n",
    "---"
   ]
  },
  {
   "cell_type": "markdown",
   "id": "78f70152-afb9-400e-973c-30df3001b30d",
   "metadata": {},
   "source": [
    "### Solution"
   ]
  },
  {
   "cell_type": "code",
   "execution_count": 63,
   "id": "aa9043c5-87ec-41b8-b430-2a01553b9acb",
   "metadata": {},
   "outputs": [],
   "source": [
    "class Furniture:\n",
    "    def __init__(self):\n",
    "        self._typeOfWood = \"Teakwood\""
   ]
  },
  {
   "cell_type": "code",
   "execution_count": 64,
   "id": "6dfc447e-1589-4265-b0fa-e6a1c4f00e74",
   "metadata": {},
   "outputs": [],
   "source": [
    "class Chair(Furniture):\n",
    "    def __init__(self):\n",
    "        # super is used to call base class methods. You will learn more about super in next section.\n",
    "        # Here we are calling the init of our base class to initialise the type of wood as Teakwood\n",
    "        super().__init__()\n",
    "        self.__numberOfLegs = 4\n",
    "\n",
    "    def setWoodType(self, typeOfWood):\n",
    "        self._typeOfWood = typeOfWood\n",
    "\n",
    "    def displayChairSpecification(self):\n",
    "        print(\"This chair is made of {} and has {} legs\".format(self._typeOfWood, self.__numberOfLegs))"
   ]
  },
  {
   "cell_type": "code",
   "execution_count": 67,
   "id": "7ff98a9b-6ade-48c4-a775-c4aa0696f3f2",
   "metadata": {},
   "outputs": [
    {
     "name": "stdout",
     "output_type": "stream",
     "text": [
      "Would you like to change the type of wood from Teakwood? Y/N\n"
     ]
    },
    {
     "name": "stdin",
     "output_type": "stream",
     "text": [
      " N\n"
     ]
    },
    {
     "name": "stdout",
     "output_type": "stream",
     "text": [
      "This chair is made of Teakwood and has 4 legs\n"
     ]
    }
   ],
   "source": [
    "chair = Chair()\n",
    "print(\"Would you like to change the type of wood from Teakwood? Y/N\")\n",
    "userChoice = input()\n",
    "if userChoice == 'Y':\n",
    "    print(\"Enter the type of wood you would like your chair to be made of\")\n",
    "    typeOfWood = input()\n",
    "    chair.setWoodType(typeOfWood)\n",
    "chair.displayChairSpecification()"
   ]
  }
 ],
 "metadata": {
  "kernelspec": {
   "display_name": "Python 3 (ipykernel)",
   "language": "python",
   "name": "python3"
  },
  "language_info": {
   "codemirror_mode": {
    "name": "ipython",
    "version": 3
   },
   "file_extension": ".py",
   "mimetype": "text/x-python",
   "name": "python",
   "nbconvert_exporter": "python",
   "pygments_lexer": "ipython3",
   "version": "3.10.12"
  }
 },
 "nbformat": 4,
 "nbformat_minor": 5
}
