{
 "cells": [
  {
   "cell_type": "markdown",
   "id": "d7d5b533-7aa4-4286-b806-c9db6f13d921",
   "metadata": {},
   "source": [
    "# Notes\n",
    "- Everything in pyhthon is an object\n",
    "- upon property(attribute) get, pyhton checks first if there is an instance attribute for this property, return it if exist and return class attribute if it does not exist.\n",
    "- actions within a class are the methods of that class.\n",
    "- class attribute is common between all instances. Instance attribute is specific to each instance.\n",
    "- Instance attribute lives within the life span of all the methodos of the class, i.e. any method can access it.\n",
    "- a local variable defined without self is only accessible within that specific method.\n",
    "- Function decorators are functions that takes other functions as parameters.\n",
    "- If I want to add a method that does not utilise any self attribute I add the decorator @staticmethod.\n",
    "- The init method acts as a constructor it enables instansiation of instance variables at the time of instanciation or creation.\n",
    "- An object can be instanciated but not initialized.\n",
    "- to create a class variable you either implement in class itself or by classname.classvariable = \"\""
   ]
  },
  {
   "cell_type": "markdown",
   "id": "a33e9ae6-a216-48fe-90a6-df147522d100",
   "metadata": {
    "jp-MarkdownHeadingCollapsed": true
   },
   "source": [
    "# Code Snimppets"
   ]
  },
  {
   "cell_type": "markdown",
   "id": "50a34605-d5dd-4bb0-a77d-4363deb17ac7",
   "metadata": {
    "jp-MarkdownHeadingCollapsed": true
   },
   "source": [
    "## - Classes"
   ]
  },
  {
   "cell_type": "code",
   "execution_count": 12,
   "id": "9c8c6f0e-d24d-4ab3-aed1-b36934826753",
   "metadata": {},
   "outputs": [],
   "source": [
    "class Employee:\n",
    "    name = \"Ben\"\n",
    "    designation = \"Sales Executive\"\n",
    "    salesMadeThisWeek = 6\n",
    "\n",
    "    def hasAchievedTarget(self):\n",
    "        if self.salesMadeThisWeek >= 6:\n",
    "            print(\"Target has been achieved\")\n",
    "        else:\n",
    "            print(\"Target has not been achieved\")\n"
   ]
  },
  {
   "cell_type": "code",
   "execution_count": 13,
   "id": "be9cfaf4-18da-4f26-b942-6310251d3ddc",
   "metadata": {},
   "outputs": [],
   "source": [
    "employeeOne = Employee()"
   ]
  },
  {
   "cell_type": "code",
   "execution_count": 14,
   "id": "a017ceb6-97a4-4267-8387-62a405d2474c",
   "metadata": {},
   "outputs": [
    {
     "data": {
      "text/plain": [
       "'Ben'"
      ]
     },
     "execution_count": 14,
     "metadata": {},
     "output_type": "execute_result"
    }
   ],
   "source": [
    "employeeOne.name"
   ]
  },
  {
   "cell_type": "code",
   "execution_count": 15,
   "id": "63d18c82-9c65-4137-b30a-d671baacb5ad",
   "metadata": {},
   "outputs": [
    {
     "name": "stdout",
     "output_type": "stream",
     "text": [
      "Target has been achieved\n"
     ]
    }
   ],
   "source": [
    "employeeOne.hasAchievedTarget()"
   ]
  },
  {
   "cell_type": "code",
   "execution_count": 16,
   "id": "91c3ab9f-4d52-4fc2-baab-87b018b6a6d1",
   "metadata": {},
   "outputs": [],
   "source": [
    "employeeTwo = Employee()"
   ]
  },
  {
   "cell_type": "code",
   "execution_count": 17,
   "id": "a704f9db-14d9-45ce-88f0-7abf3bd0d088",
   "metadata": {},
   "outputs": [
    {
     "data": {
      "text/plain": [
       "'Ben'"
      ]
     },
     "execution_count": 17,
     "metadata": {},
     "output_type": "execute_result"
    }
   ],
   "source": [
    "employeeTwo.name"
   ]
  },
  {
   "cell_type": "markdown",
   "id": "cf808772-7134-47fd-9a4c-efe01812b85d",
   "metadata": {
    "jp-MarkdownHeadingCollapsed": true
   },
   "source": [
    "## - Class atr VS Instance atr"
   ]
  },
  {
   "cell_type": "markdown",
   "id": "7f6e3c04-146a-4f5f-942b-a3927a129ed7",
   "metadata": {},
   "source": [
    "### Class Attribute"
   ]
  },
  {
   "cell_type": "code",
   "execution_count": 12,
   "id": "1db1637b-9129-4b52-ae16-364b6cdaca07",
   "metadata": {},
   "outputs": [],
   "source": [
    "class Employee:\n",
    "    numberOfWorkingHours = 40"
   ]
  },
  {
   "cell_type": "code",
   "execution_count": 16,
   "id": "b62480bf-0b3a-4271-b942-2ee3a2caef8d",
   "metadata": {},
   "outputs": [],
   "source": [
    "employeeOne = Employee()\n",
    "employeeTwo = Employee()"
   ]
  },
  {
   "cell_type": "code",
   "execution_count": 19,
   "id": "37e96681-295c-4735-9440-5abdfcdeaaaf",
   "metadata": {},
   "outputs": [
    {
     "data": {
      "text/plain": [
       "40"
      ]
     },
     "execution_count": 19,
     "metadata": {},
     "output_type": "execute_result"
    }
   ],
   "source": [
    "employeeOne.numberOfWorkingHours"
   ]
  },
  {
   "cell_type": "code",
   "execution_count": 20,
   "id": "fffa9ace-3b71-4307-9878-02d40e8e5979",
   "metadata": {},
   "outputs": [
    {
     "data": {
      "text/plain": [
       "40"
      ]
     },
     "execution_count": 20,
     "metadata": {},
     "output_type": "execute_result"
    }
   ],
   "source": [
    "employeeTwo.numberOfWorkingHours"
   ]
  },
  {
   "cell_type": "code",
   "execution_count": 21,
   "id": "3fb4d223-c3e3-4f1d-9e43-45df4cec89de",
   "metadata": {},
   "outputs": [],
   "source": [
    "Employee.numberOfWorkingHours = 45"
   ]
  },
  {
   "cell_type": "code",
   "execution_count": 22,
   "id": "33c9f77a-6861-4d63-892d-aa2a1cc90c4b",
   "metadata": {},
   "outputs": [
    {
     "data": {
      "text/plain": [
       "45"
      ]
     },
     "execution_count": 22,
     "metadata": {},
     "output_type": "execute_result"
    }
   ],
   "source": [
    "employeeOne.numberOfWorkingHours"
   ]
  },
  {
   "cell_type": "code",
   "execution_count": 23,
   "id": "285d2e17-7e93-4e71-a22a-848e0c160c4c",
   "metadata": {},
   "outputs": [
    {
     "data": {
      "text/plain": [
       "45"
      ]
     },
     "execution_count": 23,
     "metadata": {},
     "output_type": "execute_result"
    }
   ],
   "source": [
    "employeeTwo.numberOfWorkingHours"
   ]
  },
  {
   "cell_type": "markdown",
   "id": "12fe9839-6497-418d-9ec7-f0b9e612681b",
   "metadata": {},
   "source": [
    "### Instance Attribute"
   ]
  },
  {
   "cell_type": "code",
   "execution_count": 24,
   "id": "45f7dd8b-dffd-47d4-b037-f3c61a2fd086",
   "metadata": {},
   "outputs": [
    {
     "data": {
      "text/plain": [
       "'John'"
      ]
     },
     "execution_count": 24,
     "metadata": {},
     "output_type": "execute_result"
    }
   ],
   "source": [
    "employeeOne.name = \"John\"\n",
    "employeeOne.name"
   ]
  },
  {
   "cell_type": "code",
   "execution_count": 25,
   "id": "63bae660-6566-4fb2-ad52-5b2ed9b52951",
   "metadata": {},
   "outputs": [
    {
     "ename": "AttributeError",
     "evalue": "'Employee' object has no attribute 'name'",
     "output_type": "error",
     "traceback": [
      "\u001b[0;31m---------------------------------------------------------------------------\u001b[0m",
      "\u001b[0;31mAttributeError\u001b[0m                            Traceback (most recent call last)",
      "Cell \u001b[0;32mIn[25], line 1\u001b[0m\n\u001b[0;32m----> 1\u001b[0m \u001b[43memployeeTwo\u001b[49m\u001b[38;5;241;43m.\u001b[39;49m\u001b[43mname\u001b[49m\n",
      "\u001b[0;31mAttributeError\u001b[0m: 'Employee' object has no attribute 'name'"
     ]
    }
   ],
   "source": [
    "employeeTwo.name"
   ]
  },
  {
   "cell_type": "code",
   "execution_count": 26,
   "id": "2bde6dc9-bb6b-4bcd-b878-19ace3755796",
   "metadata": {},
   "outputs": [
    {
     "data": {
      "text/plain": [
       "'Mary'"
      ]
     },
     "execution_count": 26,
     "metadata": {},
     "output_type": "execute_result"
    }
   ],
   "source": [
    "employeeTwo.name = \"Mary\"\n",
    "employeeTwo.name"
   ]
  },
  {
   "cell_type": "code",
   "execution_count": 27,
   "id": "a7f36598-6d5a-429a-8614-11f2598614c8",
   "metadata": {},
   "outputs": [
    {
     "data": {
      "text/plain": [
       "40"
      ]
     },
     "execution_count": 27,
     "metadata": {},
     "output_type": "execute_result"
    }
   ],
   "source": [
    "employeeOne.numberOfWorkingHours = 40\n",
    "employeeOne.numberOfWorkingHours"
   ]
  },
  {
   "cell_type": "code",
   "execution_count": 28,
   "id": "15ab2bc3-e23d-4301-8448-28f1d37094ce",
   "metadata": {},
   "outputs": [
    {
     "data": {
      "text/plain": [
       "45"
      ]
     },
     "execution_count": 28,
     "metadata": {},
     "output_type": "execute_result"
    }
   ],
   "source": [
    "employeeTwo.numberOfWorkingHours"
   ]
  },
  {
   "cell_type": "markdown",
   "id": "2a96b095-e9f2-4156-a727-dd0b5899ccec",
   "metadata": {
    "jp-MarkdownHeadingCollapsed": true
   },
   "source": [
    "## - Self Param"
   ]
  },
  {
   "cell_type": "code",
   "execution_count": 38,
   "id": "31868802-18e5-427a-839f-f52e9edcb645",
   "metadata": {},
   "outputs": [],
   "source": [
    "class Employee:\n",
    "    def employeeDetails():\n",
    "        pass"
   ]
  },
  {
   "cell_type": "code",
   "execution_count": 39,
   "id": "c4551ea0-3875-4e9b-a0f5-e7f46a228269",
   "metadata": {},
   "outputs": [],
   "source": [
    "employee = Employee()"
   ]
  },
  {
   "cell_type": "code",
   "execution_count": 40,
   "id": "71b202e1-dd91-4d92-911d-97025ca60548",
   "metadata": {},
   "outputs": [
    {
     "ename": "TypeError",
     "evalue": "Employee.employeeDetails() takes 0 positional arguments but 1 was given",
     "output_type": "error",
     "traceback": [
      "\u001b[0;31m---------------------------------------------------------------------------\u001b[0m",
      "\u001b[0;31mTypeError\u001b[0m                                 Traceback (most recent call last)",
      "Cell \u001b[0;32mIn[40], line 1\u001b[0m\n\u001b[0;32m----> 1\u001b[0m \u001b[43memployee\u001b[49m\u001b[38;5;241;43m.\u001b[39;49m\u001b[43memployeeDetails\u001b[49m\u001b[43m(\u001b[49m\u001b[43m)\u001b[49m\n",
      "\u001b[0;31mTypeError\u001b[0m: Employee.employeeDetails() takes 0 positional arguments but 1 was given"
     ]
    }
   ],
   "source": [
    "employee.employeeDetails()"
   ]
  },
  {
   "cell_type": "markdown",
   "id": "3340943e-ab7b-4a47-9471-76b1b91a88e8",
   "metadata": {},
   "source": [
    "---\n",
    "---"
   ]
  },
  {
   "cell_type": "code",
   "execution_count": 66,
   "id": "1a918e02-6eeb-4b13-8fe3-03de62206a7d",
   "metadata": {},
   "outputs": [],
   "source": [
    "class Employee:\n",
    "    def employeeDetails(self):\n",
    "        pass"
   ]
  },
  {
   "cell_type": "code",
   "execution_count": 61,
   "id": "0cd05b63-c118-4de5-9701-82e6a38a08e9",
   "metadata": {},
   "outputs": [],
   "source": [
    "employee = Employee()"
   ]
  },
  {
   "cell_type": "code",
   "execution_count": 64,
   "id": "ed15349f-1e8a-4d92-9749-dc0c9297b7c5",
   "metadata": {},
   "outputs": [],
   "source": [
    "employee.employeeDetails()"
   ]
  },
  {
   "cell_type": "markdown",
   "id": "e7421142-692b-484e-a9ac-5d8da7ba1d73",
   "metadata": {},
   "source": [
    "same as"
   ]
  },
  {
   "cell_type": "code",
   "execution_count": 65,
   "id": "79b68ab8-846b-43ba-80c8-132c73837839",
   "metadata": {},
   "outputs": [],
   "source": [
    "Employee.employeeDetails(employee)"
   ]
  },
  {
   "cell_type": "markdown",
   "id": "a1b7e68e-df4d-4469-add7-972fbbef873e",
   "metadata": {},
   "source": [
    "---\n",
    "---"
   ]
  },
  {
   "cell_type": "code",
   "execution_count": 50,
   "id": "fbbd37ef-c7e4-45d9-b001-87f506ee7c1a",
   "metadata": {},
   "outputs": [],
   "source": [
    "class Employee:\n",
    "    def employeeDetails(self):\n",
    "        self.name = \"Mathew\"\n",
    "        age = 50\n",
    "        print(\"Name = \", self.name)\n",
    "\n",
    "    def anotherInstanceMethod(self):\n",
    "        print(self.name)\n",
    "        print(age)\n",
    "         "
   ]
  },
  {
   "cell_type": "code",
   "execution_count": 51,
   "id": "10edfd69-c250-4322-a46d-48eee19eef85",
   "metadata": {},
   "outputs": [],
   "source": [
    "employee = Employee()"
   ]
  },
  {
   "cell_type": "code",
   "execution_count": 52,
   "id": "6eb08cf3-dc44-42ab-acc3-f6282074b156",
   "metadata": {},
   "outputs": [
    {
     "name": "stdout",
     "output_type": "stream",
     "text": [
      "Name =  Mathew\n"
     ]
    }
   ],
   "source": [
    "employee.employeeDetails()"
   ]
  },
  {
   "cell_type": "code",
   "execution_count": 53,
   "id": "f0fa756a-50dc-4aa3-85b8-d3d9895f2e76",
   "metadata": {},
   "outputs": [
    {
     "name": "stdout",
     "output_type": "stream",
     "text": [
      "Mathew\n"
     ]
    },
    {
     "ename": "NameError",
     "evalue": "name 'age' is not defined",
     "output_type": "error",
     "traceback": [
      "\u001b[0;31m---------------------------------------------------------------------------\u001b[0m",
      "\u001b[0;31mNameError\u001b[0m                                 Traceback (most recent call last)",
      "Cell \u001b[0;32mIn[53], line 1\u001b[0m\n\u001b[0;32m----> 1\u001b[0m \u001b[43memployee\u001b[49m\u001b[38;5;241;43m.\u001b[39;49m\u001b[43manotherInstanceMethod\u001b[49m\u001b[43m(\u001b[49m\u001b[43m)\u001b[49m\n",
      "Cell \u001b[0;32mIn[50], line 9\u001b[0m, in \u001b[0;36mEmployee.anotherInstanceMethod\u001b[0;34m(self)\u001b[0m\n\u001b[1;32m      7\u001b[0m \u001b[38;5;28;01mdef\u001b[39;00m \u001b[38;5;21manotherInstanceMethod\u001b[39m(\u001b[38;5;28mself\u001b[39m):\n\u001b[1;32m      8\u001b[0m     \u001b[38;5;28mprint\u001b[39m(\u001b[38;5;28mself\u001b[39m\u001b[38;5;241m.\u001b[39mname)\n\u001b[0;32m----> 9\u001b[0m     \u001b[38;5;28mprint\u001b[39m(\u001b[43mage\u001b[49m)\n",
      "\u001b[0;31mNameError\u001b[0m: name 'age' is not defined"
     ]
    }
   ],
   "source": [
    "employee.anotherInstanceMethod()"
   ]
  },
  {
   "cell_type": "markdown",
   "id": "1766fc27-e919-4008-b89b-184e77d71946",
   "metadata": {},
   "source": [
    "---\n",
    "---"
   ]
  },
  {
   "cell_type": "code",
   "execution_count": 54,
   "id": "43e4b0c7-49e6-4298-99c0-f554e3d65229",
   "metadata": {},
   "outputs": [],
   "source": [
    "class Employee:\n",
    "    def employeeDetails(self):\n",
    "        self.name = \"Ben\"\n",
    "\n",
    "    @staticmethod\n",
    "    def welcomeMessage():\n",
    "        print(\"Welcome to our organization!\")\n",
    "         "
   ]
  },
  {
   "cell_type": "code",
   "execution_count": 56,
   "id": "ba06ba52-e23d-4aea-9283-abf7635916c6",
   "metadata": {},
   "outputs": [],
   "source": [
    "employee = Employee()"
   ]
  },
  {
   "cell_type": "code",
   "execution_count": 57,
   "id": "fee68d7b-1558-41cc-88d2-50483259cdaa",
   "metadata": {},
   "outputs": [
    {
     "name": "stdout",
     "output_type": "stream",
     "text": [
      "Ben\n",
      "Welcome to our organization!\n"
     ]
    }
   ],
   "source": [
    "employee.employeeDetails()\n",
    "print(employee.name)\n",
    "employee.welcomeMessage()"
   ]
  },
  {
   "cell_type": "markdown",
   "id": "f53f9eb3-e2fd-476b-9c94-7713914c0521",
   "metadata": {
    "jp-MarkdownHeadingCollapsed": true
   },
   "source": [
    "## - __ init __"
   ]
  },
  {
   "cell_type": "code",
   "execution_count": 64,
   "id": "4cce0cb2-b903-4c0f-9f5b-b5cfcedaeafa",
   "metadata": {},
   "outputs": [],
   "source": [
    "class Employee:\n",
    "\n",
    "    def __init__(self):\n",
    "        self.name = \"Mark\"\n",
    "\n",
    "    def displayemployeeDetails(self):\n",
    "        print(self.name)"
   ]
  },
  {
   "cell_type": "code",
   "execution_count": 65,
   "id": "07bedc89-a358-44ad-9e53-82457fb5e721",
   "metadata": {},
   "outputs": [
    {
     "name": "stdout",
     "output_type": "stream",
     "text": [
      "Mark\n",
      "Mark\n"
     ]
    }
   ],
   "source": [
    "employee = Employee()\n",
    "employeeTwo = Employee()\n",
    "employee.displayemployeeDetails()\n",
    "employeeTwo.displayemployeeDetails()"
   ]
  },
  {
   "cell_type": "markdown",
   "id": "fa639784-4a76-4c10-9b9e-78a7ff7074da",
   "metadata": {},
   "source": [
    "---\n",
    "---"
   ]
  },
  {
   "cell_type": "code",
   "execution_count": 70,
   "id": "b2507133-543b-4960-bbb4-c7872bbb3e80",
   "metadata": {},
   "outputs": [],
   "source": [
    "class Employee:\n",
    "\n",
    "    def __init__(self, name):\n",
    "        self.name = name\n",
    "\n",
    "    def displayemployeeDetails(self):\n",
    "        print(self.name)"
   ]
  },
  {
   "cell_type": "code",
   "execution_count": 71,
   "id": "b000becb-158b-4586-898a-7f970be37d6f",
   "metadata": {},
   "outputs": [
    {
     "name": "stdout",
     "output_type": "stream",
     "text": [
      "Ben\n",
      "Mark\n"
     ]
    }
   ],
   "source": [
    "employee = Employee(\"Ben\")\n",
    "employeeTwo = Employee(\"Mark\")\n",
    "employee.displayemployeeDetails()\n",
    "employeeTwo.displayemployeeDetails()"
   ]
  },
  {
   "cell_type": "markdown",
   "id": "483b65ef-d803-41de-87a4-38b1b7e78402",
   "metadata": {},
   "source": [
    "# Excercises"
   ]
  },
  {
   "cell_type": "markdown",
   "id": "71250018-ed59-43d0-9d2f-b992bf446639",
   "metadata": {},
   "source": [
    "## Attributes and Methods\n",
    "\n",
    "Write an object oriented program to create a precious stone.\n",
    "Not more than 5 precious stones can be held in possession at a\n",
    "given point of time. If there are more than 5 precious stones,\n",
    "delete the first stone and store the new one."
   ]
  },
  {
   "cell_type": "code",
   "execution_count": 77,
   "id": "27a17973-c6cd-41f8-b3b8-412b19a2c1ec",
   "metadata": {},
   "outputs": [],
   "source": [
    "class PreciousStone:\n",
    "\n",
    "    stoneCount = 0\n",
    "    preciousStoneCollection = []\n",
    "    \n",
    "    def __init__(self, name):\n",
    "        self.name = name\n",
    "        PreciousStone.stoneCount += 1\n",
    "        if PreciousStone.stoneCount <= 5:\n",
    "            PreciousStone.preciousStoneCollection.append(self)\n",
    "        else:\n",
    "            del PreciousStone.preciousStoneCollection[0]\n",
    "            PreciousStone.preciousStoneCollection.append(self)\n",
    "\n",
    "    @staticmethod\n",
    "    def displayPreciousStones():\n",
    "        for preciousStone in PreciousStone.preciousStoneCollection:\n",
    "            print(preciousStone.name, end = ' ')\n",
    "        print()\n",
    "            \n"
   ]
  },
  {
   "cell_type": "code",
   "execution_count": 79,
   "id": "8a94a0ba-9016-44f8-b01d-322ddb9b597c",
   "metadata": {},
   "outputs": [],
   "source": [
    "preciousStoneOne  = PreciousStone(\"Ruby\")\n",
    "preciousStoneTwo  = PreciousStone(\"Emerald\")\n",
    "preciousStoneThree  = PreciousStone(\"Sapphire\")\n",
    "preciousStoneFour  = PreciousStone(\"Diamond\")\n",
    "preciousStoneFive  = PreciousStone(\"Amber\")"
   ]
  },
  {
   "cell_type": "code",
   "execution_count": 80,
   "id": "716e7e94-b283-4ad9-b7af-c40f24874148",
   "metadata": {},
   "outputs": [
    {
     "name": "stdout",
     "output_type": "stream",
     "text": [
      "Ruby Emerald Sapphire Diamond Amber \n"
     ]
    }
   ],
   "source": [
    "preciousStoneFive.displayPreciousStones()"
   ]
  },
  {
   "cell_type": "code",
   "execution_count": 81,
   "id": "406746b1-934e-4a17-aabc-e3399321d1f9",
   "metadata": {},
   "outputs": [],
   "source": [
    "preciousStoneSix = PreciousStone(\"Onyx\")"
   ]
  },
  {
   "cell_type": "code",
   "execution_count": 82,
   "id": "767ce13c-95f7-4e75-a70a-b445a64fbbd4",
   "metadata": {},
   "outputs": [
    {
     "name": "stdout",
     "output_type": "stream",
     "text": [
      "Emerald Sapphire Diamond Amber Onyx \n"
     ]
    }
   ],
   "source": [
    "preciousStoneFive.displayPreciousStones()"
   ]
  },
  {
   "cell_type": "code",
   "execution_count": null,
   "id": "3926fb0d-b78b-40a9-9b3c-57a32176dd0f",
   "metadata": {},
   "outputs": [],
   "source": []
  }
 ],
 "metadata": {
  "kernelspec": {
   "display_name": "Python 3 (ipykernel)",
   "language": "python",
   "name": "python3"
  },
  "language_info": {
   "codemirror_mode": {
    "name": "ipython",
    "version": 3
   },
   "file_extension": ".py",
   "mimetype": "text/x-python",
   "name": "python",
   "nbconvert_exporter": "python",
   "pygments_lexer": "ipython3",
   "version": "3.10.12"
  }
 },
 "nbformat": 4,
 "nbformat_minor": 5
}
