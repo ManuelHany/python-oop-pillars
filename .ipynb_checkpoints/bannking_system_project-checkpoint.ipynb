{
 "cells": [
  {
   "cell_type": "markdown",
   "id": "ebd23892-e8ae-4ef7-8e19-f1171e63f544",
   "metadata": {},
   "source": [
    "## Question:\n",
    "- Give a prompt to the user asking if they wish to create a new Savings Account or access an existing one\n",
    "- If the user would like to create a new account, accept their name adn intitial deposit, and create a 5 digit random number and make it as the account number of theri new Savings Account.\n",
    "- If they are accessing an existing account, accept their name and account number to validate the user, and give them options to withdraw, depostt or display their available balance. "
   ]
  },
  {
   "cell_type": "code",
   "execution_count": 1,
   "id": "cd57b816-8c33-4912-8b9f-cb4089ce0ea4",
   "metadata": {},
   "outputs": [],
   "source": [
    "from random import randint\n",
    "\n",
    "class Bank():\n",
    "    def __init__(self, name=\"NBE\"):\n",
    "        self.name = name\n",
    "        self.__Customers = []\n",
    "\n",
    "    def addCustomer(self, customer):\n",
    "        self.__Customers.append({\n",
    "            customer.accountNumber: {\n",
    "                \"name\": customer.name,\n",
    "                \"credit\": customer.initialDeposit\n",
    "            }\n",
    "        })\n",
    "        \n",
    "\n",
    "    def validateAccount(self, name, accountNumber):\n",
    "        for customer in self.__Customers:\n",
    "            if accountNumber in customer.keys():\n",
    "                if customer[accountNumber]['name'] == name:\n",
    "                    return True\n",
    "            else:\n",
    "                return False\n",
    "        \n",
    "    def withdraw(self, accountNumber, name, withdrawalAmount):\n",
    "        for customer in self.__Customers:\n",
    "            if accountNumber in customer.keys():\n",
    "                if customer[accountNumber]['name'] == name:\n",
    "                    if withdrawalAmount < customer[accountNumber]['credit']:\n",
    "                        customer[accountNumber]['credit'] -= withdrawalAmount\n",
    "                        print('you successfully withdrawn {}$'.format(withdrawalAmount))\n",
    "                    else:\n",
    "                        print(\"no sufficient funds!\")\n",
    "                        \n",
    "            else:\n",
    "                print(\"something went wrong please try again later\")\n",
    "\n",
    "\n",
    "    def deposit(self, customer, depositAmount):\n",
    "        if validateAccount:\n",
    "            # deposit\n",
    "            pass\n",
    "        else:\n",
    "            # return message\n",
    "            pass\n",
    "\n",
    "    def displayBalance(self, customer):\n",
    "        # print(f\"your available balance is {customer.}\")\n",
    "        pass\n",
    "\n",
    "\n",
    "\n",
    "class Customer(Bank):\n",
    "    def __init__(self, name, initial_deposit, Bank):\n",
    "        self.accountNumber = randint(10000, 99999)        \n",
    "        self.name = name\n",
    "        self.initialDeposit = initial_deposit\n",
    "        Bank.addCustomer(self)\n",
    "        print(\"please save your data:\\n1- account_number: {}\\n2- name: {}\".format(self.accountNumber, self.name))"
   ]
  },
  {
   "cell_type": "code",
   "execution_count": 2,
   "id": "d8fe5548-5154-4bec-9e22-489cb8dbbf20",
   "metadata": {},
   "outputs": [],
   "source": [
    "NBE_bank = Bank()"
   ]
  },
  {
   "cell_type": "code",
   "execution_count": 11,
   "id": "05ca0094-4780-4d44-bfdd-cebb1b5bea2f",
   "metadata": {},
   "outputs": [
    {
     "name": "stdout",
     "output_type": "stream",
     "text": [
      "Welcome to the ATW Bank. Choose from the numbers below:\n",
      "\n",
      "#1 Create a new savings account.\n",
      "#2 Access and exising account.\n"
     ]
    },
    {
     "name": "stdin",
     "output_type": "stream",
     "text": [
      " 2\n"
     ]
    },
    {
     "name": "stdout",
     "output_type": "stream",
     "text": [
      "Please enter your name\n"
     ]
    },
    {
     "name": "stdin",
     "output_type": "stream",
     "text": [
      " Manuel\n"
     ]
    },
    {
     "name": "stdout",
     "output_type": "stream",
     "text": [
      "Please enter your account number\n"
     ]
    },
    {
     "name": "stdin",
     "output_type": "stream",
     "text": [
      " 47024\n"
     ]
    },
    {
     "name": "stdout",
     "output_type": "stream",
     "text": [
      "account validated. Please choose from the numbers below:\n",
      "\n",
      "#1 Cash Withdrawal.\n",
      "#2 Deposit.\n",
      "#3 Display available balance\n"
     ]
    },
    {
     "name": "stdin",
     "output_type": "stream",
     "text": [
      " 1\n"
     ]
    },
    {
     "name": "stdout",
     "output_type": "stream",
     "text": [
      "Please enter withdrawal ammount. N.B. Only multiples of 50!\n"
     ]
    },
    {
     "name": "stdin",
     "output_type": "stream",
     "text": [
      " 60\n"
     ]
    },
    {
     "name": "stdout",
     "output_type": "stream",
     "text": [
      "no sufficient funds!\n"
     ]
    }
   ],
   "source": [
    "print(\"Welcome to the ATW Bank. Choose from the numbers below:\\n\")\n",
    "print(\"#1 Create a new savings account.\\n#2 Access and exising account.\")\n",
    "\n",
    "choice = int(input())\n",
    "if choice == 1:\n",
    "    print(\"Please enter you name\")\n",
    "    name = str(input())\n",
    "    print(\"Please enter youur desired initial deposit\")\n",
    "    deposit = int(input())\n",
    "    customerOne = Customer(name, deposit, NBE_bank)\n",
    "    \n",
    "elif choice ==2:\n",
    "    print(\"Please enter your name\")\n",
    "    name = str(input())\n",
    "    print(\"Please enter your account number\")\n",
    "    accountNumber = int(input())\n",
    "    if NBE_bank.validateAccount(name, accountNumber):\n",
    "        print(\"account validated. Please choose from the numbers below:\\n\")\n",
    "        print(\"#1 Cash Withdrawal.\\n#2 Deposit.\\n#3 Display available balance\")\n",
    "        choice = int(input())\n",
    "        \n",
    "        if choice == 1:\n",
    "            print(\"Please enter withdrawal ammount. N.B. Only multiples of 50!\")\n",
    "            amount = int(input())\n",
    "            NBE_bank.withdraw(accountNumber, name, amount)\n",
    "            \n",
    "        if choice == 2:\n",
    "            print(\"Please enter Deposit ammount. N.B. Only multiples of 50!\")\n",
    "            amount = int(input())\n",
    "            NBE_bank.deposit(accountNumber, name, amount)\n",
    "            \n",
    "        elif choice == 3:\n",
    "            NBE_bank.displayBalance(accountNumber, name)\n",
    "    pass"
   ]
  },
  {
   "cell_type": "markdown",
   "id": "c2c6058d-a832-4b0f-bdcc-35546d452f7d",
   "metadata": {
    "jp-MarkdownHeadingCollapsed": true
   },
   "source": [
    "## Instructor Solution"
   ]
  },
  {
   "cell_type": "code",
   "execution_count": null,
   "id": "b2afd836-17fe-44da-b41e-fea703e34cb1",
   "metadata": {},
   "outputs": [],
   "source": [
    "from abc import ABCMeta, abstractmethod\n",
    "from random import randint"
   ]
  },
  {
   "cell_type": "code",
   "execution_count": null,
   "id": "f0754e86-6317-4491-92d8-6b1431dc2b70",
   "metadata": {},
   "outputs": [],
   "source": [
    "class Account(metaclass = ABCMeta):\n",
    "    @abstractmethod\n",
    "    def createAccount():\n",
    "        return 0\n",
    "    @abstractmethod\n",
    "    def authenticate():\n",
    "        return 0\n",
    "    @abstractmethod\n",
    "    def withdraw():\n",
    "        return 0\n",
    "    @abstractmethod\n",
    "    def deposit():\n",
    "        return 0\n",
    "    @abstractmethod\n",
    "    def displayBalance():\n",
    "        return 0"
   ]
  },
  {
   "cell_type": "code",
   "execution_count": null,
   "id": "dc8971ce-ccc5-4a64-934e-c45a8736c654",
   "metadata": {},
   "outputs": [],
   "source": [
    "class SavingsAccount(Account):\n",
    "    def __init__(self):\n",
    "        # [key][0] => name ; [key][1] => balance\n",
    "        self.savingsAccounts = {}\n",
    "    def createAccount(self, name, initialDeposit):\n",
    "        print()\n",
    "        self.accountNumber = randint(10000, 99999)\n",
    "        self.savingsAccounts[self.accountNumber] = [name, initialDeposit]\n",
    "        print(\"Account creation has been successful. Your account number is \", self.accountNumber)\n",
    "        print()\n",
    "\n",
    "    def authenticate(self, name, accountNumber):\n",
    "        print()\n",
    "        if accountNumber in self.savingsAccounts.keys():\n",
    "            if self.savingsAccounts[accountNumber][0] == name:\n",
    "                print(\"Authentication Successful\")\n",
    "                self.accountNumber = accountNumber\n",
    "                print()\n",
    "                return True\n",
    "            else:\n",
    "                print(\"Authentication Failed\")\n",
    "                print()\n",
    "                return False\n",
    "        else:\n",
    "            print(\"Authentication Failed\")\n",
    "            print()\n",
    "            return False\n",
    "\n",
    "    def withdraw(self, withdrawalAmount):\n",
    "        print()\n",
    "        if withdrawalAmount > self.savingsAccounts[self.accountNumber][1]:\n",
    "            print(\"Insufficient balance\")\n",
    "        else:\n",
    "            self.savingsAccounts[self.accountNumber][1] -= withdrawalAmount\n",
    "            print(\"Withdrawal was successful.\")\n",
    "            self.displayBalance()\n",
    "        print()\n",
    "\n",
    "    def deposit(self, depositAmount):\n",
    "        print()\n",
    "        self.savingsAccounts[self.accountNumber][1] += depositAmount\n",
    "        print(\"Deposit was successful.\")\n",
    "        self.displayBalance()\n",
    "        print()\n",
    "\n",
    "    def displayBalance(self):\n",
    "        print(\"Avaialble balance: \",self.savingsAccounts[self.accountNumber][1])"
   ]
  },
  {
   "cell_type": "code",
   "execution_count": null,
   "id": "80ce6d83-4c76-4c50-b851-c4a7d0ac3937",
   "metadata": {},
   "outputs": [],
   "source": [
    "savingsAccount = SavingsAccount()"
   ]
  },
  {
   "cell_type": "code",
   "execution_count": null,
   "id": "70f3dd26-c8dc-41ac-b4ed-eac0c294dc40",
   "metadata": {},
   "outputs": [],
   "source": [
    "while True:\n",
    "    print()\n",
    "    print(\"Enter 1 to create a new account\")\n",
    "    print(\"Enter 2 to access an existing account\")\n",
    "    print(\"Enter 3 to exit\")\n",
    "    userChoice = int(input())\n",
    "    print()\n",
    "    if userChoice is 1:\n",
    "        print()\n",
    "        print(\"Enter your name: \")\n",
    "        name = input()\n",
    "        print(\"Enter the initial deposit: \")\n",
    "        deposit = int(input())\n",
    "        savingsAccount.createAccount(name, deposit)\n",
    "        print()\n",
    "    elif userChoice is 2:\n",
    "        print()\n",
    "        print(\"Enter your name: \")\n",
    "        name = input()\n",
    "        print(\"Enter your account number: \")\n",
    "        accountNumber = int(input())\n",
    "        authenticationStatus = savingsAccount.authenticate(name, accountNumber)\n",
    "        print()\n",
    "        if authenticationStatus is True:\n",
    "            while True:\n",
    "                print()\n",
    "                print(\"Enter 1 to withdraw\")\n",
    "                print(\"Enter 2 to deposit\")\n",
    "                print(\"Enter 3 to display avialable balance\")\n",
    "                print(\"Enter 4 to go back to the previous menu\")\n",
    "                userChoice = int(input())\n",
    "                print()\n",
    "                if userChoice is 1:\n",
    "                    print()\n",
    "                    print(\"Enter a withdrawal amount\")\n",
    "                    withdrawalAmount = int(input())\n",
    "                    savingsAccount.withdraw(withdrawalAmount)\n",
    "                    print()\n",
    "                elif userChoice is 2:\n",
    "                    print()\n",
    "                    print(\"Enter an amount to be deposited\")\n",
    "                    depositAmount = int(input())\n",
    "                    savingsAccount.deposit(depositAmount)\n",
    "                    print()\n",
    "                elif userChoice is 3:\n",
    "                    print()\n",
    "                    savingsAccount.displayBalance()\n",
    "                    print()\n",
    "                elif userChoice is 4:\n",
    "                    break\n",
    "    elif userChoice is 3:\n",
    "        quit()"
   ]
  },
  {
   "cell_type": "code",
   "execution_count": null,
   "id": "aec912d4-c4fb-4244-9d7c-55b23bc0bf6e",
   "metadata": {},
   "outputs": [],
   "source": []
  },
  {
   "cell_type": "code",
   "execution_count": null,
   "id": "df84bfd1-ef62-4a8e-b3af-0c333818facb",
   "metadata": {},
   "outputs": [],
   "source": []
  },
  {
   "cell_type": "code",
   "execution_count": null,
   "id": "a5eac6e4-0b22-416c-b7da-5c0c8919a2ab",
   "metadata": {},
   "outputs": [],
   "source": []
  },
  {
   "cell_type": "code",
   "execution_count": null,
   "id": "11caff24-ce94-4cd2-94c4-8d3b75b253ae",
   "metadata": {},
   "outputs": [],
   "source": []
  },
  {
   "cell_type": "code",
   "execution_count": null,
   "id": "84f8211f-a452-487c-aa93-3f0534f1361a",
   "metadata": {},
   "outputs": [],
   "source": []
  },
  {
   "cell_type": "code",
   "execution_count": null,
   "id": "9e87ba34-9184-4b85-9634-d02521927128",
   "metadata": {},
   "outputs": [],
   "source": []
  },
  {
   "cell_type": "code",
   "execution_count": null,
   "id": "7d97b15e-2d35-45ea-baca-e359ce76c712",
   "metadata": {},
   "outputs": [],
   "source": []
  },
  {
   "cell_type": "code",
   "execution_count": null,
   "id": "47d6f75a-aaff-4714-bc48-bed75b52ab4d",
   "metadata": {},
   "outputs": [],
   "source": []
  },
  {
   "cell_type": "code",
   "execution_count": null,
   "id": "8eb8420d-c74f-40b4-a4fd-b40a0de69366",
   "metadata": {},
   "outputs": [],
   "source": []
  }
 ],
 "metadata": {
  "kernelspec": {
   "display_name": "Python 3 (ipykernel)",
   "language": "python",
   "name": "python3"
  },
  "language_info": {
   "codemirror_mode": {
    "name": "ipython",
    "version": 3
   },
   "file_extension": ".py",
   "mimetype": "text/x-python",
   "name": "python",
   "nbconvert_exporter": "python",
   "pygments_lexer": "ipython3",
   "version": "3.10.10"
  }
 },
 "nbformat": 4,
 "nbformat_minor": 5
}
